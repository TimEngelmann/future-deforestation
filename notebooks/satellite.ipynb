{
 "cells": [
  {
   "cell_type": "markdown",
   "source": [
    "# Preprocess satellite data\n",
    "Not relevant for the final models, but helpful for data visualization. The notebook input_output_visualization.ipynb will need the data layers created in this notebook."
   ],
   "metadata": {
    "collapsed": false
   }
  },
  {
   "cell_type": "code",
   "execution_count": null,
   "outputs": [],
   "source": [
    "import numpy as np\n",
    "import rasterio\n",
    "import rasterio.mask\n",
    "from rasterio.windows import Window\n",
    "import matplotlib.pyplot as plt\n",
    "from matplotlib import colors\n",
    "from sklearn.model_selection import train_test_split\n",
    "import torch\n",
    "import matplotlib as mpl\n",
    "from rasterio.warp import calculate_default_transform, reproject, Resampling\n",
    "import os\n",
    "from rasterio.merge import merge"
   ],
   "metadata": {
    "collapsed": false
   }
  },
  {
   "attachments": {},
   "cell_type": "markdown",
   "metadata": {},
   "source": [
    "# Load satellite data"
   ]
  },
  {
   "cell_type": "code",
   "execution_count": null,
   "metadata": {},
   "outputs": [],
   "source": [
    "import geopandas as gpd\n",
    "path = \"../data/raw/biomass/Biomas_250mil/lm_bioma_250.shp\"\n",
    "df = gpd.read_file(path)\n",
    "df['area_6933'] = df.geometry.to_crs(\"EPSG:6933\").area / 10000"
   ]
  },
  {
   "cell_type": "code",
   "execution_count": null,
   "metadata": {},
   "outputs": [],
   "source": [
    "df.crs"
   ]
  },
  {
   "cell_type": "code",
   "execution_count": null,
   "metadata": {},
   "outputs": [],
   "source": [
    "def merge_mosaic(year, resolution=250):\n",
    "    path_bio = f\"../data/raw/biomass/amazonia/{resolution}m/satellite/\" \n",
    "    path_bios = [path_bio + name for name in os.listdir(path_bio) if f\"-{year}-\" in name]\n",
    "    \n",
    "    src_files_to_mosaic = []\n",
    "    for fp in path_bios:\n",
    "        src = rasterio.open(fp)\n",
    "        src_files_to_mosaic.append(src)\n",
    "\n",
    "    mosaic, out_trans = merge(src_files_to_mosaic)\n",
    "    out_meta = src.meta.copy()\n",
    "\n",
    "    print(src.crs)\n",
    "\n",
    "    out_meta.update({\"driver\": \"GTiff\",\n",
    "            \"height\": mosaic.shape[1],\n",
    "            \"width\": mosaic.shape[2],\n",
    "            \"transform\": out_trans,\n",
    "            \"crs\": src.crs\n",
    "            })\n",
    "    \n",
    "    out_fp = f\"../data/raw/biomass/amazonia/{resolution}m/satellite/\" + f\"mosaic_{year}.tif\"\n",
    "    with rasterio.open(out_fp, \"w\", **out_meta) as dest:\n",
    "        dest.write(mosaic)"
   ]
  },
  {
   "cell_type": "code",
   "execution_count": null,
   "metadata": {},
   "outputs": [],
   "source": [
    "for year in [2010,2015,2020]:\n",
    "    merge_mosaic(year)"
   ]
  },
  {
   "cell_type": "code",
   "execution_count": null,
   "metadata": {},
   "outputs": [],
   "source": [
    "# function to load biomass data\n",
    "def crop_satellite_data(year, shape, resolution=250):\n",
    "    path_bio = f\"../data/raw/biomass/amazonia/{resolution}m/satellite/\" \n",
    "    path_bio = path_bio + f\"mosaic_{year}.tif\"\n",
    "    \n",
    "    nodata = 0\n",
    "\n",
    "    with rasterio.open(path_bio) as src:\n",
    "        out_meta = src.meta\n",
    "        \n",
    "        bio_data, out_transform = rasterio.mask.mask(src, shape, crop=True, nodata=nodata)\n",
    "        # bio_data = bio_data.squeeze()\n",
    "        out_meta.update({\"driver\": \"GTiff\",\n",
    "                \"height\": bio_data.shape[1],\n",
    "                \"width\": bio_data.shape[2],\n",
    "                \"transform\": out_transform})\n",
    "    out_fp = f\"../data/raw/biomass/amazonia/{resolution}m/satellite/\" + f\"mosaic_{year}.tif\"\n",
    "    with rasterio.open(out_fp, \"w\", **out_meta) as dest:\n",
    "        dest.write(bio_data)"
   ]
  },
  {
   "cell_type": "code",
   "execution_count": null,
   "metadata": {},
   "outputs": [],
   "source": [
    "for year in [2010,2015,2020]:\n",
    "    crop_satellite_data(year, shape=[df.geometry[0]])"
   ]
  },
  {
   "cell_type": "code",
   "execution_count": null,
   "metadata": {},
   "outputs": [],
   "source": [
    "def transform_crs(year, dst_crs, resolution=250):\n",
    "    path_bio_in = f\"../data/raw/biomass/amazonia/{resolution}m/satellite/\" + f\"mosaic_{year}.tif\"\n",
    "    with rasterio.open(path_bio_in) as src:\n",
    "        transform, width, height = calculate_default_transform(\n",
    "            src.crs, dst_crs, src.width, src.height, *src.bounds)\n",
    "        kwargs = src.meta.copy()\n",
    "        kwargs.update({\n",
    "            'crs': dst_crs,\n",
    "            'transform': transform,\n",
    "            'width': width,\n",
    "            'height': height\n",
    "        })\n",
    "        path_bio_out = f\"../data/interim/biomass/amazonia/{resolution}m/satellite/\" + f\"mosaic_{year}.tif\"\n",
    "        with rasterio.open(path_bio_out, 'w', **kwargs) as dst:\n",
    "            for i in range(1, src.count + 1):\n",
    "                reproject(\n",
    "                    source=rasterio.band(src, i),\n",
    "                    destination=rasterio.band(dst, i),\n",
    "                    src_transform=src.transform,\n",
    "                    src_crs=src.crs,\n",
    "                    dst_transform=transform,\n",
    "                    dst_crs=dst_crs,\n",
    "                    resampling=Resampling.nearest)"
   ]
  },
  {
   "cell_type": "code",
   "execution_count": null,
   "metadata": {},
   "outputs": [],
   "source": [
    "for year in [2010,2015,2020]:\n",
    "    transform_crs(year, 'EPSG:6933')"
   ]
  },
  {
   "cell_type": "code",
   "execution_count": null,
   "metadata": {},
   "outputs": [],
   "source": [
    "def load_satellite_data(year, resolution=250, delta=360):\n",
    "    path_bio = f\"../data/interim/biomass/amazonia/{resolution}m/satellite/\"\n",
    "    path_bio = path_bio + f\"mosaic_{year}.tif\"\n",
    "    with rasterio.open(path_bio) as src:\n",
    "        out_meta = src.meta\n",
    "        bio_data = src.read()\n",
    "    bio_data = torch.from_numpy(bio_data)\n",
    "    bio_data = bio_data.moveaxis(0, -1)\n",
    "\n",
    "    # print(bio_data.shape)\n",
    "   \n",
    "    target_shape = torch.ceil(torch.tensor(bio_data.shape) / delta) * delta + delta\n",
    "    diff_x = int((target_shape[1] - bio_data.shape[1])/2)\n",
    "    diff_y = int((target_shape[0] - bio_data.shape[0])/2)\n",
    "    mod_x = (target_shape[1] - bio_data.shape[1])%2\n",
    "    mod_y = (target_shape[0] - bio_data.shape[0])%2\n",
    "    bio_data = torch.nn.functional.pad(bio_data, (0, 0, diff_x, int(diff_x+mod_x), diff_y, int(diff_y+mod_y)), value=0)\n",
    "    return bio_data, out_meta"
   ]
  },
  {
   "cell_type": "code",
   "execution_count": null,
   "metadata": {},
   "outputs": [],
   "source": [
    "satellite_data, meta = load_satellite_data(year=2015)"
   ]
  },
  {
   "cell_type": "code",
   "execution_count": null,
   "metadata": {},
   "outputs": [],
   "source": [
    "satellite_data.shape"
   ]
  },
  {
   "cell_type": "code",
   "execution_count": null,
   "metadata": {},
   "outputs": [],
   "source": [
    "plt.imshow((satellite_data[:,:,[2,1,0]]*0.1).type(torch.uint8))\n",
    "plt.show()"
   ]
  },
  {
   "cell_type": "code",
   "execution_count": null,
   "metadata": {},
   "outputs": [],
   "source": [
    "for year in [2010, 2015, 2020]:\n",
    "    satellite_data, meta = load_satellite_data(year)\n",
    "    satellite_data = (satellite_data*0.1).type(torch.uint8)\n",
    "    torch.save(satellite_data, f\"../data/processed_transition/biomass/amazonia/{250}m/\" + f\"mosaic_{year}.pt\")"
   ]
  }
 ],
 "metadata": {
  "kernelspec": {
   "display_name": "sp",
   "language": "python",
   "name": "python3"
  },
  "language_info": {
   "codemirror_mode": {
    "name": "ipython",
    "version": 3
   },
   "file_extension": ".py",
   "mimetype": "text/x-python",
   "name": "python",
   "nbconvert_exporter": "python",
   "pygments_lexer": "ipython3",
   "version": "3.9.16"
  },
  "orig_nbformat": 4
 },
 "nbformat": 4,
 "nbformat_minor": 2
}
