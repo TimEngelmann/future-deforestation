{
 "cells": [
  {
   "cell_type": "markdown",
   "source": [
    "# Visualize data (earlier version - transition data)\n",
    "This notebook interactively visualizes the data used for training and testing the model. It is written for an earlier version of the data, where we still relied on the transition data. At that time, we also looked at deforestation at a higher scale. There are two parameters of interest: The input scale and the output scale. They can be changed with the sliders.\n",
    "\n",
    "Later in the project we found that deforestation happens on a very local scale and does not spread very far. We then changed the pipeline to 30 m resolution and omitted the idea of aggregating the output target across vast areas. However, given the poor results on the 30 m resolution, it might be worth revisiting the idea of aggregating the output target across a larger area. This notebook might be useful for that."
   ],
   "metadata": {
    "collapsed": false
   }
  },
  {
   "cell_type": "code",
   "execution_count": null,
   "outputs": [],
   "source": [
    "import numpy as np\n",
    "import rasterio\n",
    "import rasterio.mask\n",
    "from rasterio.windows import Window\n",
    "import matplotlib.pyplot as plt\n",
    "from matplotlib import colors\n",
    "from sklearn.model_selection import train_test_split\n",
    "import torch\n",
    "import matplotlib as mpl\n",
    "from rasterio.warp import calculate_default_transform, reproject, Resampling\n",
    "import os\n",
    "from rasterio.merge import merge\n",
    "import ipywidgets\n",
    "from ipywidgets import interact\n",
    "import IPython"
   ],
   "metadata": {
    "collapsed": false
   }
  },
  {
   "cell_type": "code",
   "execution_count": null,
   "metadata": {},
   "outputs": [],
   "source": [
    "dataset = \"test\"\n",
    "model_nr = 5"
   ]
  },
  {
   "cell_type": "code",
   "execution_count": null,
   "metadata": {},
   "outputs": [],
   "source": [
    "if dataset == \"test\":\n",
    "    input_year = 2015\n",
    "    target_year = 2020\n",
    "else:\n",
    "    input_year = 2010\n",
    "    target_year = 2015\n",
    "\n",
    "satellite_input = torch.load(f'../data/processed_transition/biomass/amazonia/250m/mosaic_{input_year}.pt')\n",
    "biomass_input = torch.load(f'../data/processed_transition/biomass/amazonia/250m/biomass_{input_year}.pt')\n",
    "transition_1_year= torch.load(f'../data/processed_transition/biomass/amazonia/250m/transition_{input_year-1}_{input_year}.pt')\n",
    "transition_5_year = torch.load(f'../data/processed_transition/biomass/amazonia/250m/transition_{input_year-5}_{input_year}.pt')\n",
    "transition_10_year = torch.load(f'../data/processed_transition/biomass/amazonia/250m/transition_{input_year-10}_{input_year}.pt')\n",
    "\n",
    "satellite_target = torch.load(f'../data/processed_transition/biomass/amazonia/250m/mosaic_{target_year}.pt')\n",
    "biomass_target = torch.load(f'../data/processed_transition/biomass/amazonia/250m/biomass_{target_year}.pt')\n",
    "transition_target = torch.load(f'../data/processed_transition/biomass/amazonia/250m/transition_{target_year-5}_{target_year}.pt')\n",
    "\n",
    "data = torch.load(f'../data/processed_transition/{dataset}_data.pt')\n",
    "predictions = torch.load(f'../lightning_logs/version_{model_nr}/{dataset}_predictions.pt')"
   ]
  },
  {
   "cell_type": "code",
   "execution_count": null,
   "metadata": {},
   "outputs": [],
   "source": [
    "cmap = colors.ListedColormap(['#129912','#bbfcac', '#ffffb2', '#ea9999', '#0000ff', '#D5D5E5'])\n",
    "mat = plt.matshow(biomass_input,cmap=cmap,vmin = -.5, vmax = 5.5)\n",
    "cax = plt.colorbar(mat, ticks=np.arange(0,6))\n",
    "cax.ax.set_yticklabels(['forest', 'natural', 'farming', 'urban', 'water', 'unknown'])\n",
    "plt.show()"
   ]
  },
  {
   "cell_type": "code",
   "execution_count": null,
   "metadata": {},
   "outputs": [],
   "source": [
    "plt.imshow(satellite_input[:,:,[2,1,0]])\n",
    "plt.show()"
   ]
  },
  {
   "cell_type": "code",
   "execution_count": null,
   "metadata": {},
   "outputs": [],
   "source": [
    "def compute_layers(input_px, output_px, data, predictions, transition_target):\n",
    "    i = int(input_px/2)\n",
    "    o = int(output_px/2)\n",
    "\n",
    "    targets = []\n",
    "    for point in data:\n",
    "        x = point[0]\n",
    "        y = point[1]\n",
    "        target = torch.sum(transition_target[y-o:y+o, x-o:x+o])/(output_px**2)\n",
    "        targets.append(target)\n",
    "    targets = torch.tensor(targets)\n",
    "\n",
    "    # x_point, y_point, x_cluster, y_cluster, target_class | target | prediction\n",
    "    data_frame = torch.column_stack([data, targets, predictions])\n",
    "\n",
    "    target_layer = np.ones(transition_target.shape) * -1\n",
    "    prediction_layer = np.ones(transition_target.shape) * -1\n",
    "    for point in data_frame:\n",
    "        x = int(point[0])\n",
    "        y = int(point[1])\n",
    "        target_layer[y-o:y+o, x-o:x+o] = point[-2]\n",
    "        prediction_layer[y-o:y+o, x-o:x+o] = point[-1]\n",
    "    \n",
    "    return target_layer, prediction_layer"
   ]
  },
  {
   "cell_type": "code",
   "execution_count": null,
   "metadata": {},
   "outputs": [],
   "source": [
    "def plot_input_output(input_px, output_px, data, target_layer, prediction_layer, nr_bin=0, random_choice=0, vmax=0.3):\n",
    "    i = int(input_px/2)\n",
    "    o = int(output_px/2)\n",
    "    cmap_bio = colors.ListedColormap(['#129912','#bbfcac', '#ffffb2', '#ea9999', '#0000ff', '#D5D5E5'])\n",
    "    cmap_target = mpl.colormaps['viridis']\n",
    "    cmap_target.set_under('white')\n",
    "\n",
    "    point = data[torch.where(data[:,-1] == nr_bin)][random_choice]\n",
    "\n",
    "    x = point[0]\n",
    "    y = point[1]\n",
    "\n",
    "    # fill up target layer\n",
    "    xv = np.arange(x-i, x+i+o, output_px)\n",
    "    yv = np.arange(y-i, y+i+o, output_px)\n",
    "    xv, yv = np.meshgrid(xv, yv)\n",
    "    data_points = np.vstack([xv.flatten(), yv.flatten()]).T\n",
    "    for pointi in data_points:\n",
    "        xi = int(pointi[0])\n",
    "        yi = int(pointi[1])\n",
    "        target_window = transition_target[yi-o:yi+o,xi-o:xi+o]\n",
    "        target = torch.sum(target_window)/(output_px**2)\n",
    "        target_layer[yi-o:yi+o, xi-o:xi+o] = target\n",
    "\n",
    "    fig, axs = plt.subplots(3,5,figsize=(12,7))\n",
    "\n",
    "    # input fields\n",
    "    axs[0,0].imshow(satellite_input[y-i:y+i,x-i:x+i,[2,1,0]])\n",
    "    axs[0,0].title.set_text(f'Satellite {input_year}')\n",
    "\n",
    "    axs[1,0].imshow(biomass_input[y-i:y+i,x-i:x+i],cmap=cmap_bio,vmin = -.5, vmax = 5.5, interpolation='nearest')\n",
    "    axs[1,0].title.set_text(f'Biomass {input_year}')\n",
    "\n",
    "    axs[0,1].imshow(transition_1_year[y-i:y+i,x-i:x+i])\n",
    "    axs[0,1].title.set_text(f'Loss {input_year-1}-{input_year}')\n",
    "\n",
    "    axs[1,1].imshow(transition_5_year[y-i:y+i,x-i:x+i])\n",
    "    axs[1,1].title.set_text(f'Loss {input_year-5}-{input_year}')\n",
    "\n",
    "    axs[2,1].imshow(transition_10_year[y-i:y+i,x-i:x+i])\n",
    "    axs[2,1].title.set_text(f'Loss {input_year-10}-{input_year}')\n",
    "\n",
    "    # output fields\n",
    "    axs[0,2].imshow(satellite_target[y-i:y+i,x-i:x+i,[2,1,0]])\n",
    "    axs[0,2].title.set_text(f'Satellite {target_year}')\n",
    "\n",
    "    axs[1,2].imshow(biomass_target[y-i:y+i,x-i:x+i],cmap=cmap_bio,vmin = -.5, vmax = 5.5, interpolation='nearest')\n",
    "    axs[1,2].title.set_text(f'Biomass {target_year}')\n",
    "\n",
    "    axs[0,3].imshow(target_layer[y-i:y+i,x-i:x+i], vmin = 0, vmax =vmax, cmap=cmap_target, interpolation='nearest')\n",
    "    axs[0,3].add_patch(mpl.patches.Rectangle((i-o-0.5, i-o-0.5), output_px, output_px, fill=False, edgecolor='red'))\n",
    "    axs[0,3].title.set_text('Target 5 years')\n",
    "\n",
    "    axs[1,3].imshow(transition_target[y-i:y+i,x-i:x+i])\n",
    "    axs[1,3].title.set_text(f'Loss {target_year-5}-{target_year}')\n",
    "\n",
    "    axs[0,4].imshow(prediction_layer[y-i:y+i,x-i:x+i], vmin = 0, vmax =vmax, cmap=cmap_target, interpolation='nearest')\n",
    "    axs[0,4].add_patch(mpl.patches.Rectangle((i-o-0.5, i-o-0.5), output_px, output_px, fill=False, edgecolor='red'))\n",
    "    axs[0,4].add_patch(mpl.patches.Rectangle((0, 0), input_px-1, input_px-1, fill=False, edgecolor='lightgrey'))\n",
    "    axs[0,4].title.set_text('Prediction 5 years')\n",
    "\n",
    "    axs = axs.flatten()\n",
    "    for ax in axs:\n",
    "        # turn off axis\n",
    "        ax.axis('off')\n",
    "    plt.show()"
   ]
  },
  {
   "cell_type": "code",
   "execution_count": null,
   "metadata": {},
   "outputs": [],
   "source": [
    "input_px = 400\n",
    "output_px = 40\n",
    "\n",
    "nr_bin = torch.max(data[:,-1]) - 5\n",
    "points = data[torch.where(data[:,-1] == nr_bin)]\n",
    "random_choice = np.random.choice(np.arange(len(points)))\n",
    "\n",
    "target_layer, prediction_layer = compute_layers(input_px, output_px, data, predictions, transition_target)\n",
    "plot_input_output(input_px, output_px, data, target_layer, prediction_layer, random_choice=random_choice)"
   ]
  },
  {
   "cell_type": "code",
   "execution_count": null,
   "metadata": {},
   "outputs": [],
   "source": [
    "from __future__ import print_function\n",
    "from ipywidgets import interact, interactive, fixed, interact_manual\n",
    "import ipywidgets as widgets\n",
    "\n",
    "nr_bin_widget = widgets.IntSlider(min=0, max=torch.max(data[:,-1]), step=1, value=torch.max(data[:,-1]))\n",
    "random_choice_widget = widgets.IntSlider(min=0, max=len(data[torch.where(data[:,-1] == torch.max(data[:,-1]))])-1, step=1, value=0)\n",
    "def update_choice_range(*args):\n",
    "    random_choice_widget.max = len(data[torch.where(data[:,-1] == nr_bin_widget.value)])-1\n",
    "random_choice_widget.observe(update_choice_range, 'value')\n",
    "\n",
    "output_px_widget = widgets.IntSlider(min=0, max=100, step=4, value=40)\n",
    "input_px_widget = widgets.IntSlider(min=0, max=2500, step=80, value=400)\n",
    "def update_input_step(*args):\n",
    "    input_px_widget.step = 2*output_px_widget.value\n",
    "output_px_widget.observe(update_input_step, 'value')\n",
    "\n",
    "interact(plot_input_output, \n",
    "            input_px=input_px_widget,\n",
    "            output_px=output_px_widget,\n",
    "            data=fixed(data),\n",
    "            target_layer=fixed(target_layer),\n",
    "            prediction_layer=fixed(prediction_layer),\n",
    "            nr_bin=nr_bin_widget,\n",
    "            random_choice=random_choice_widget,\n",
    "            vmax=widgets.FloatSlider(min=0, max=1, step=0.1, value=0.3))"
   ]
  }
 ],
 "metadata": {
  "kernelspec": {
   "display_name": "sp",
   "language": "python",
   "name": "python3"
  },
  "language_info": {
   "codemirror_mode": {
    "name": "ipython",
    "version": 3
   },
   "file_extension": ".py",
   "mimetype": "text/x-python",
   "name": "python",
   "nbconvert_exporter": "python",
   "pygments_lexer": "ipython3",
   "version": "3.9.16"
  },
  "orig_nbformat": 4
 },
 "nbformat": 4,
 "nbformat_minor": 2
}
