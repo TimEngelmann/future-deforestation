{
 "cells": [
  {
   "cell_type": "code",
   "execution_count": 1,
   "metadata": {},
   "outputs": [],
   "source": [
    "import numpy as np\n",
    "import rasterio\n",
    "import rasterio.mask\n",
    "from rasterio.windows import Window\n",
    "import matplotlib.pyplot as plt\n",
    "from matplotlib import colors\n",
    "from sklearn.model_selection import train_test_split\n",
    "import torch\n",
    "import matplotlib as mpl\n",
    "from rasterio.warp import calculate_default_transform, reproject, Resampling\n",
    "import os\n",
    "from rasterio.merge import merge"
   ]
  },
  {
   "cell_type": "code",
   "execution_count": 6,
   "metadata": {},
   "outputs": [],
   "source": [
    "satellite_2010 = torch.load('../data/processed_transition/biomass/amazonia/250m/mosaic-2010.pt')\n",
    "biomass_2010 = torch.load('../data/processed_transition/biomass/amazonia/250m/biomass_2010.pt')\n",
    "transition_2009_2010 = torch.load('../data/processed_transition/biomass/amazonia/250m/transition_2009_2010.pt')\n",
    "transition_2005_2010 = torch.load('../data/processed_transition/biomass/amazonia/250m/transition_2005_2010.pt')\n",
    "transition_2000_2010 = torch.load('../data/processed_transition/biomass/amazonia/250m/transition_2000_2010.pt')\n",
    "\n",
    "satellite_2015 = torch.load('../data/processed_transition/biomass/amazonia/250m/mosaic-2015.pt')\n",
    "biomass_2015 = torch.load('../data/processed_transition/biomass/amazonia/250m/biomass_2015.pt')\n",
    "transition_2010_2015 = torch.load('../data/processed_transition/biomass/amazonia/250m/transition_2010_2015.pt')\n",
    "\n",
    "val_data = torch.load('../data/processed_transition/val_data.pt')"
   ]
  },
  {
   "cell_type": "code",
   "execution_count": 9,
   "metadata": {},
   "outputs": [
    {
     "name": "stdout",
     "output_type": "stream",
     "text": [
      "torch.Size([10533, 13995, 6])\n",
      "torch.Size([12530, 13250])\n"
     ]
    }
   ],
   "source": [
    "print(satellite_2010.shape)\n",
    "print(biomass_2010.shape)"
   ]
  }
 ],
 "metadata": {
  "kernelspec": {
   "display_name": "sp",
   "language": "python",
   "name": "python3"
  },
  "language_info": {
   "codemirror_mode": {
    "name": "ipython",
    "version": 3
   },
   "file_extension": ".py",
   "mimetype": "text/x-python",
   "name": "python",
   "nbconvert_exporter": "python",
   "pygments_lexer": "ipython3",
   "version": "3.9.16"
  },
  "orig_nbformat": 4
 },
 "nbformat": 4,
 "nbformat_minor": 2
}
