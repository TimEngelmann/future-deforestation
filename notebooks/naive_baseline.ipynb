{
 "cells": [
  {
   "cell_type": "code",
   "execution_count": 1,
   "metadata": {
    "collapsed": true,
    "ExecuteTime": {
     "start_time": "2023-05-17T15:01:07.590284Z",
     "end_time": "2023-05-17T15:01:08.481709Z"
    }
   },
   "outputs": [],
   "source": [
    "import numpy as np\n",
    "import pandas as pd\n",
    "import torch\n",
    "import torchvision"
   ]
  },
  {
   "cell_type": "code",
   "execution_count": 2,
   "outputs": [],
   "source": [
    "# get val_layers\n",
    "val_layers = torch.load(\"../data/processed/val_layers.pt\")"
   ],
   "metadata": {
    "collapsed": false,
    "ExecuteTime": {
     "start_time": "2023-05-17T15:01:10.734142Z",
     "end_time": "2023-05-17T15:01:11.132102Z"
    }
   }
  },
  {
   "cell_type": "code",
   "execution_count": 3,
   "outputs": [],
   "source": [
    "input_px = 50\n",
    "# center crop val_layers to 35x35\n",
    "val_layers = torchvision.transforms.functional.center_crop(val_layers, (input_px, input_px))"
   ],
   "metadata": {
    "collapsed": false,
    "ExecuteTime": {
     "start_time": "2023-05-17T15:01:12.705756Z",
     "end_time": "2023-05-17T15:01:12.709579Z"
    }
   }
  },
  {
   "cell_type": "code",
   "execution_count": 4,
   "outputs": [
    {
     "data": {
      "text/plain": "torch.Size([40567, 9, 50, 50])"
     },
     "execution_count": 4,
     "metadata": {},
     "output_type": "execute_result"
    }
   ],
   "source": [
    "val_layers.shape"
   ],
   "metadata": {
    "collapsed": false,
    "ExecuteTime": {
     "start_time": "2023-05-17T15:01:14.728152Z",
     "end_time": "2023-05-17T15:01:14.730604Z"
    }
   }
  },
  {
   "cell_type": "code",
   "execution_count": 5,
   "outputs": [],
   "source": [
    "target = torch.count_nonzero(val_layers[:,-1,:,:] == 4, dim=(1,2)) > 0\n",
    "prediction = torch.count_nonzero(val_layers[:,-2,:,:] == 4, dim=(1,2)) > 0"
   ],
   "metadata": {
    "collapsed": false,
    "ExecuteTime": {
     "start_time": "2023-05-17T15:01:17.018615Z",
     "end_time": "2023-05-17T15:01:17.416007Z"
    }
   }
  },
  {
   "cell_type": "code",
   "execution_count": 6,
   "outputs": [
    {
     "name": "stdout",
     "output_type": "stream",
     "text": [
      "f1 score:  0.5494031353372644\n",
      "precision:  0.5324289165582605\n",
      "recall:  0.567495295632366\n"
     ]
    }
   ],
   "source": [
    "# get f1 score, precision, recall\n",
    "from sklearn.metrics import f1_score, precision_score, recall_score\n",
    "print(\"f1 score: \", f1_score(target, prediction))\n",
    "print(\"precision: \", precision_score(target, prediction))\n",
    "print(\"recall: \", recall_score(target, prediction))"
   ],
   "metadata": {
    "collapsed": false,
    "ExecuteTime": {
     "start_time": "2023-05-17T15:01:19.428041Z",
     "end_time": "2023-05-17T15:01:19.932427Z"
    }
   }
  },
  {
   "cell_type": "code",
   "execution_count": null,
   "outputs": [],
   "source": [],
   "metadata": {
    "collapsed": false
   }
  }
 ],
 "metadata": {
  "kernelspec": {
   "display_name": "Python 3",
   "language": "python",
   "name": "python3"
  },
  "language_info": {
   "codemirror_mode": {
    "name": "ipython",
    "version": 2
   },
   "file_extension": ".py",
   "mimetype": "text/x-python",
   "name": "python",
   "nbconvert_exporter": "python",
   "pygments_lexer": "ipython2",
   "version": "2.7.6"
  }
 },
 "nbformat": 4,
 "nbformat_minor": 0
}
