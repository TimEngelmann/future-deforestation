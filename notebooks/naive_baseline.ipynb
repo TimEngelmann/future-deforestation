{
 "cells": [
  {
   "cell_type": "code",
   "execution_count": 1,
   "metadata": {
    "collapsed": true,
    "ExecuteTime": {
     "start_time": "2023-05-11T12:11:17.821062Z",
     "end_time": "2023-05-11T12:11:18.738780Z"
    }
   },
   "outputs": [],
   "source": [
    "import numpy as np\n",
    "import pandas as pd\n",
    "import torch\n",
    "import torchvision"
   ]
  },
  {
   "cell_type": "code",
   "execution_count": 2,
   "outputs": [],
   "source": [
    "# get val_layers\n",
    "val_layers = torch.load(\"../data/processed/val_layers.pt\")"
   ],
   "metadata": {
    "collapsed": false,
    "ExecuteTime": {
     "start_time": "2023-05-11T12:11:36.007118Z",
     "end_time": "2023-05-11T12:11:37.094534Z"
    }
   }
  },
  {
   "cell_type": "code",
   "execution_count": 3,
   "outputs": [],
   "source": [
    "input_px = 50\n",
    "# center crop val_layers to 35x35\n",
    "val_layers = torchvision.transforms.functional.center_crop(val_layers, (input_px, input_px))"
   ],
   "metadata": {
    "collapsed": false,
    "ExecuteTime": {
     "start_time": "2023-05-11T12:11:38.567636Z",
     "end_time": "2023-05-11T12:11:38.570239Z"
    }
   }
  },
  {
   "cell_type": "code",
   "execution_count": 4,
   "outputs": [
    {
     "data": {
      "text/plain": "torch.Size([45053, 9, 50, 50])"
     },
     "execution_count": 4,
     "metadata": {},
     "output_type": "execute_result"
    }
   ],
   "source": [
    "val_layers.shape"
   ],
   "metadata": {
    "collapsed": false,
    "ExecuteTime": {
     "start_time": "2023-05-11T12:11:39.894386Z",
     "end_time": "2023-05-11T12:11:39.897838Z"
    }
   }
  },
  {
   "cell_type": "code",
   "execution_count": 5,
   "outputs": [],
   "source": [
    "target = torch.count_nonzero(val_layers[:,-1,:,:] == 4, dim=(1,2)) > 0\n",
    "prediction = torch.count_nonzero(val_layers[:,-2,:,:] == 4, dim=(1,2)) > 0"
   ],
   "metadata": {
    "collapsed": false,
    "ExecuteTime": {
     "start_time": "2023-05-11T12:11:41.607376Z",
     "end_time": "2023-05-11T12:11:42.273934Z"
    }
   }
  },
  {
   "cell_type": "code",
   "execution_count": 6,
   "outputs": [
    {
     "name": "stdout",
     "output_type": "stream",
     "text": [
      "f1 score:  0.5568047337278107\n",
      "precision:  0.5302902225979149\n",
      "recall:  0.5861102460292744\n"
     ]
    }
   ],
   "source": [
    "# get f1 score, precision, recall\n",
    "from sklearn.metrics import f1_score, precision_score, recall_score\n",
    "print(\"f1 score: \", f1_score(target, prediction))\n",
    "print(\"precision: \", precision_score(target, prediction))\n",
    "print(\"recall: \", recall_score(target, prediction))"
   ],
   "metadata": {
    "collapsed": false,
    "ExecuteTime": {
     "start_time": "2023-05-11T12:11:43.068531Z",
     "end_time": "2023-05-11T12:11:43.516388Z"
    }
   }
  }
 ],
 "metadata": {
  "kernelspec": {
   "display_name": "Python 3",
   "language": "python",
   "name": "python3"
  },
  "language_info": {
   "codemirror_mode": {
    "name": "ipython",
    "version": 2
   },
   "file_extension": ".py",
   "mimetype": "text/x-python",
   "name": "python",
   "nbconvert_exporter": "python",
   "pygments_lexer": "ipython2",
   "version": "2.7.6"
  }
 },
 "nbformat": 4,
 "nbformat_minor": 0
}
