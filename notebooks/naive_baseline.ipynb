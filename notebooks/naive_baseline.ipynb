{
 "cells": [
  {
   "cell_type": "markdown",
   "source": [
    "# Naive Baseline for tile-wise classification\n",
    "If there was deforestation in the tile in the year before, predict deforestation in the next year."
   ],
   "metadata": {
    "collapsed": false
   }
  },
  {
   "cell_type": "code",
   "execution_count": null,
   "outputs": [],
   "source": [
    "import numpy as np\n",
    "import pandas as pd\n",
    "import torch\n",
    "import torchvision"
   ],
   "metadata": {
    "collapsed": false
   }
  },
  {
   "cell_type": "code",
   "execution_count": null,
   "outputs": [],
   "source": [
    "# get val_layers\n",
    "val_layers = torch.load(\"../data/processed/val_layers.pt\")"
   ],
   "metadata": {
    "collapsed": false,
    "ExecuteTime": {
     "start_time": "2023-05-17T15:01:10.734142Z",
     "end_time": "2023-05-17T15:01:11.132102Z"
    }
   }
  },
  {
   "cell_type": "code",
   "execution_count": null,
   "outputs": [],
   "source": [
    "input_px = 50\n",
    "# center crop val_layers to 35x35\n",
    "val_layers = torchvision.transforms.functional.center_crop(val_layers, (input_px, input_px))"
   ],
   "metadata": {
    "collapsed": false,
    "ExecuteTime": {
     "start_time": "2023-05-17T15:01:12.705756Z",
     "end_time": "2023-05-17T15:01:12.709579Z"
    }
   }
  },
  {
   "cell_type": "code",
   "execution_count": null,
   "outputs": [],
   "source": [
    "val_layers.shape"
   ],
   "metadata": {
    "collapsed": false,
    "ExecuteTime": {
     "start_time": "2023-05-17T15:01:14.728152Z",
     "end_time": "2023-05-17T15:01:14.730604Z"
    }
   }
  },
  {
   "cell_type": "code",
   "execution_count": null,
   "outputs": [],
   "source": [
    "target = torch.count_nonzero(val_layers[:,-1,:,:] == 4, dim=(1,2)) > 0\n",
    "prediction = torch.count_nonzero(val_layers[:,-2,:,:] == 4, dim=(1,2)) > 0"
   ],
   "metadata": {
    "collapsed": false,
    "ExecuteTime": {
     "start_time": "2023-05-17T15:01:17.018615Z",
     "end_time": "2023-05-17T15:01:17.416007Z"
    }
   }
  },
  {
   "cell_type": "code",
   "execution_count": null,
   "outputs": [],
   "source": [
    "# get f1 score, precision, recall\n",
    "from sklearn.metrics import f1_score, precision_score, recall_score\n",
    "print(\"f1 score: \", f1_score(target, prediction))\n",
    "print(\"precision: \", precision_score(target, prediction))\n",
    "print(\"recall: \", recall_score(target, prediction))"
   ],
   "metadata": {
    "collapsed": false,
    "ExecuteTime": {
     "start_time": "2023-05-17T15:01:19.428041Z",
     "end_time": "2023-05-17T15:01:19.932427Z"
    }
   }
  },
  {
   "cell_type": "code",
   "execution_count": null,
   "outputs": [],
   "source": [],
   "metadata": {
    "collapsed": false
   }
  }
 ],
 "metadata": {
  "kernelspec": {
   "display_name": "Python 3",
   "language": "python",
   "name": "python3"
  },
  "language_info": {
   "codemirror_mode": {
    "name": "ipython",
    "version": 2
   },
   "file_extension": ".py",
   "mimetype": "text/x-python",
   "name": "python",
   "nbconvert_exporter": "python",
   "pygments_lexer": "ipython2",
   "version": "2.7.6"
  }
 },
 "nbformat": 4,
 "nbformat_minor": 0
}
