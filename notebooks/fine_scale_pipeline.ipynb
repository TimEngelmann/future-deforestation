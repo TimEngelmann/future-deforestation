{
 "cells": [
  {
   "cell_type": "code",
   "execution_count": 1,
   "metadata": {},
   "outputs": [],
   "source": [
    "import numpy as np\n",
    "import rasterio\n",
    "import rasterio.mask\n",
    "from rasterio.windows import Window\n",
    "import matplotlib.pyplot as plt\n",
    "from matplotlib import colors\n",
    "from sklearn.model_selection import train_test_split\n",
    "import torch\n",
    "import matplotlib as mpl\n",
    "from rasterio.warp import calculate_default_transform, reproject, Resampling\n",
    "import os\n",
    "from rasterio.merge import merge"
   ]
  },
  {
   "cell_type": "code",
   "execution_count": 2,
   "metadata": {},
   "outputs": [],
   "source": [
    "def transform_crs(dst_crs, resolution):\n",
    "\n",
    "    input_paths = []\n",
    "    output_paths = []\n",
    "\n",
    "    # biomass data\n",
    "    for year in [2010,2015]:\n",
    "        input_paths.append(f\"../data/raw/biomass/amazonia/{resolution}m/\" + f\"mapbiomas-brazil-collection-70-amazonia-{year}.tif\")\n",
    "        output_paths.append(f\"../data/processed/{resolution}m/landuse/\" + f\"biomass_{year}.tif\")\n",
    "\n",
    "    for input_path, output_path in zip(input_paths, output_paths):\n",
    "        with rasterio.open(input_path) as src:\n",
    "            transform, width, height = calculate_default_transform(\n",
    "                src.crs, dst_crs, src.width, src.height, *src.bounds)\n",
    "            kwargs = src.meta.copy()\n",
    "            kwargs.update({\n",
    "                'crs': dst_crs,\n",
    "                'transform': transform,\n",
    "                'width': width,\n",
    "                'height': height\n",
    "            })\n",
    "            with rasterio.open(output_path, 'w', **kwargs, compress=\"DEFLATE\") as dst:\n",
    "                for i in range(1, src.count + 1):\n",
    "                    reproject(\n",
    "                        source=rasterio.band(src, i),\n",
    "                        destination=rasterio.band(dst, i),\n",
    "                        src_transform=src.transform,\n",
    "                        src_crs=src.crs,\n",
    "                        dst_transform=transform,\n",
    "                        dst_crs=dst_crs,\n",
    "                        resampling=Resampling.nearest)"
   ]
  },
  {
   "cell_type": "code",
   "execution_count": 3,
   "metadata": {},
   "outputs": [],
   "source": [
    "transform_crs(\"EPSG:6933\", 30)"
   ]
  },
  {
   "cell_type": "code",
   "execution_count": 7,
   "metadata": {},
   "outputs": [],
   "source": [
    "# function to transform labels to 0=forest, 1=natural, 2=farming, 3=urban, 4=water, 255=unknown\n",
    "def transform_biodata_to_labels(bio_data):\n",
    "    class_dict = {1:0, 3:0, 4:0, 5:0,49:0, # forest\n",
    "                10:1,11:1,12:1,32:1,29:1,13:1, 13:1, 50:1, # natural\n",
    "                14:2,15:2,18:2,19:2,39:2,20:2,40:2,61:2,41:2,36:2,46:2,47:2,48:2,9:2,21:2, # farming\n",
    "                22:3,23:3,24:3,30:3,25:3, # urban\n",
    "                26:4,33:4,31:4, # water\n",
    "                27:255,0:255} # unobserved\n",
    "    bio_data_new = np.zeros_like(bio_data).astype(np.uint8)\n",
    "    for key, value in class_dict.items():\n",
    "        bio_data_new[bio_data == key] = value\n",
    "    return bio_data_new"
   ]
  },
  {
   "cell_type": "code",
   "execution_count": 8,
   "metadata": {},
   "outputs": [],
   "source": [
    "# function to load biomass data\n",
    "def load_biomass_data(year=None,resolution=30):\n",
    "    path_bio = f\"../data/processed/{resolution}m/landuse/\" + f\"biomass_{year}.tif\"\n",
    "    with rasterio.open(path_bio) as src:\n",
    "        out_meta = src.meta\n",
    "        bio_data = src.read(1)\n",
    "    return bio_data, out_meta"
   ]
  },
  {
   "cell_type": "code",
   "execution_count": 9,
   "metadata": {},
   "outputs": [],
   "source": [
    " # preprocess bio data\n",
    "for year in [2010,2015]:\n",
    "    bio_data, out_meta = load_biomass_data(year)\n",
    "    bio_data = transform_biodata_to_labels(bio_data)\n",
    "    with rasterio.open(f\"../data/processed/{30}m/landuse/\" + f\"biomass_{year}.tif\", \"w\", **out_meta, compress=\"DEFLATE\") as dest:\n",
    "        dest.write(np.expand_dims(bio_data, axis=0))"
   ]
  },
  {
   "cell_type": "code",
   "execution_count": 2,
   "metadata": {},
   "outputs": [],
   "source": [
    "# function to load biomass data\n",
    "def merge_mosaic(year=None, resolution=30, dst_crs=\"EPSG:6933\"):\n",
    "    \n",
    "    path_bio = f\"../data/raw/biomass/amazonia/{resolution}m/deforestation/\" \n",
    "    path_bios = [path_bio + name for name in os.listdir(path_bio) if f\"-{year}-\" in name]\n",
    "    \n",
    "    src_files_to_mosaic = []\n",
    "    for fp in path_bios:\n",
    "        src = rasterio.open(fp)\n",
    "        src_files_to_mosaic.append(src)\n",
    "\n",
    "    mosaic, out_trans = merge(src_files_to_mosaic)\n",
    "    mosaic = (mosaic/100).astype(np.uint8)\n",
    "    \n",
    "    out_meta = src.meta.copy()\n",
    "    \n",
    "    # Get bounds of the merged mosaic\n",
    "    out_height, out_width = mosaic.shape[1], mosaic.shape[2]\n",
    "    out_ulx, out_uly = out_trans * (0, 0)\n",
    "    out_lrx, out_lry = out_trans * (out_width, out_height)\n",
    "    bounds = (out_ulx, out_lry, out_lrx, out_uly)\n",
    "\n",
    "    out_meta.update({\"driver\": \"GTiff\", \n",
    "                     \"height\": mosaic.shape[1],\n",
    "                     \"width\": mosaic.shape[2],\n",
    "                     \"transform\": out_trans\n",
    "                     })\n",
    "    \n",
    "    transform, width, height = calculate_default_transform(\n",
    "            src.crs, dst_crs, out_meta['width'], out_meta['height'], *bounds)\n",
    "    \n",
    "    out_meta.update({\n",
    "        \"crs\": dst_crs,\n",
    "        \"transform\": transform,\n",
    "        \"width\": width,\n",
    "        \"height\": height\n",
    "    })\n",
    "    \n",
    "    path_out = f\"../data/processed/{30}m/deforestation/\"  + f\"deforestation_{year}.tif\"\n",
    "    with rasterio.open(path_out, \"w\", **out_meta, compress=\"DEFLATE\") as dest:\n",
    "        reproject(\n",
    "            source=mosaic[0],\n",
    "            destination=rasterio.band(dest, 1),\n",
    "            src_transform=out_trans,\n",
    "            src_crs=src.crs,\n",
    "            dst_transform=transform,\n",
    "            dst_crs=dst_crs,\n",
    "            resampling=Resampling.nearest)"
   ]
  },
  {
   "cell_type": "code",
   "execution_count": 3,
   "metadata": {},
   "outputs": [],
   "source": [
    "for year in range(1995, 2019):\n",
    "    merge_mosaic(year)"
   ]
  },
  {
   "cell_type": "code",
   "execution_count": 11,
   "metadata": {},
   "outputs": [],
   "source": [
    "import rasterio\n",
    "from rasterio.windows import Window\n",
    "\n",
    "path = f\"../data/processed/{30}m/landuse/\"  + f\"landuse_{2010}.tif\"\n",
    "# Open the mosaic file\n",
    "with rasterio.open(path) as src:\n",
    "    # Define the window\n",
    "    x, y, input_px = 50000, 50000, 400\n",
    "    window = Window(x - int(input_px/2), y - int(input_px/2), input_px, input_px)\n",
    "\n",
    "    # Read the data from the window, ensure that it is filled with nodata\n",
    "    data = src.read(window=window, boundless=True, fill_value=0)\n",
    "    data = data.squeeze()\n"
   ]
  },
  {
   "cell_type": "code",
   "execution_count": 9,
   "metadata": {},
   "outputs": [
    {
     "data": {
      "text/plain": [
       "(400, 400)"
      ]
     },
     "execution_count": 9,
     "metadata": {},
     "output_type": "execute_result"
    }
   ],
   "source": [
    "data.shape"
   ]
  },
  {
   "cell_type": "code",
   "execution_count": 12,
   "metadata": {},
   "outputs": [
    {
     "data": {
      "image/png": "[encoded data removed]",
      "text/plain": [
       "<Figure size 480x480 with 2 Axes>"
      ]
     },
     "metadata": {},
     "output_type": "display_data"
    }
   ],
   "source": [
    "cmap = colors.ListedColormap(['#D5D5E5', '#FFFCB5','#0F5018', '#409562', '#D90016', '#87FF0A', '#FD9407', '#191919'])\n",
    "mat = plt.matshow(data,cmap=cmap,vmin = -.5, vmax = 7.5)\n",
    "cax = plt.colorbar(mat, ticks=np.arange(0,8))\n",
    "cax.ax.set_yticklabels(['unknown', 'anthropic', 'primary', 'secondary', 'prim. deforestation', 'regrowth', 'sec. deforestation', 'noise'])\n",
    "plt.show()"
   ]
  },
  {
   "cell_type": "code",
   "execution_count": 13,
   "metadata": {},
   "outputs": [
    {
     "data": {
      "image/png": "[encoded data removed]",
      "text/plain": [
       "<Figure size 480x480 with 2 Axes>"
      ]
     },
     "metadata": {},
     "output_type": "display_data"
    }
   ],
   "source": [
    "cmap = colors.ListedColormap(['#129912','#bbfcac', '#ffffb2', '#ea9999', '#0000ff', '#D5D5E5'])\n",
    "mat = plt.matshow(data,cmap=cmap,vmin = -.5, vmax = 5.5)\n",
    "cax = plt.colorbar(mat, ticks=np.arange(0,6))\n",
    "cax.ax.set_yticklabels(['forest', 'natural', 'farming', 'urban', 'water', 'unknown'])\n",
    "plt.show()"
   ]
  },
  {
   "cell_type": "code",
   "execution_count": 21,
   "metadata": {},
   "outputs": [
    {
     "data": {
      "text/plain": [
       "740822.7306206718"
      ]
     },
     "execution_count": 21,
     "metadata": {},
     "output_type": "execute_result"
    }
   ],
   "source": [
    "# area_amazonia = 4196943 * 100 # reported online\n",
    "area_amazonia = 421544315 # calculated with ESG\n",
    "observed_px = np.count_nonzero(data != 0)\n",
    "adapted_px_dim = np.sqrt(area_amazonia * 10000 / observed_px)\n",
    "np.count_nonzero(data == 4) * adapted_px_dim**2 / 10000 # reported: 740159.18 ha (2019) vs 740822"
   ]
  }
 ],
 "metadata": {
  "kernelspec": {
   "display_name": "sp",
   "language": "python",
   "name": "python3"
  },
  "language_info": {
   "codemirror_mode": {
    "name": "ipython",
    "version": 3
   },
   "file_extension": ".py",
   "mimetype": "text/x-python",
   "name": "python",
   "nbconvert_exporter": "python",
   "pygments_lexer": "ipython3",
   "version": "3.9.16"
  },
  "orig_nbformat": 4
 },
 "nbformat": 4,
 "nbformat_minor": 2
}
