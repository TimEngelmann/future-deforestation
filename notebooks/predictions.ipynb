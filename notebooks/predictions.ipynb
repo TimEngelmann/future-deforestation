{
 "cells": [
  {
   "cell_type": "markdown",
   "source": [
    "# Visualize predictions and targets of tile-wise segmentation"
   ],
   "metadata": {
    "collapsed": false
   }
  },
  {
   "cell_type": "code",
   "execution_count": null,
   "outputs": [],
   "source": [
    "import torch\n",
    "import numpy as np\n",
    "import matplotlib.pyplot as plt\n",
    "from matplotlib import colors\n",
    "import torchvision"
   ],
   "metadata": {
    "collapsed": false
   }
  },
  {
   "cell_type": "code",
   "execution_count": null,
   "outputs": [],
   "source": [
    "task = \"tile_segmentation\"\n",
    "dataset = \"val\"\n",
    "predictions = torch.load(f\"../models/{task}/{dataset}_predictions.pt\").squeeze()\n",
    "targets = torch.load(f\"../models/{task}/{dataset}_targets.pt\").squeeze()\n",
    "\n",
    "predictions = torchvision.transforms.functional.center_crop(predictions, (50, 50))\n",
    "targets = torchvision.transforms.functional.center_crop(targets, (50, 50))"
   ],
   "metadata": {
    "collapsed": false,
    "ExecuteTime": {
     "start_time": "2023-05-17T17:44:16.561222Z",
     "end_time": "2023-05-17T17:44:16.738676Z"
    }
   }
  },
  {
   "cell_type": "code",
   "execution_count": null,
   "outputs": [],
   "source": [
    "nr_plots = 20\n",
    "fig, axs = plt.subplots(nr_plots, 2, figsize=(8, 4*nr_plots))\n",
    "titles = [\"prediction\", \"target\"]\n",
    "green = \"#115E05\"\n",
    "red = \"#F87F78\"\n",
    "cmap = colors.ListedColormap(\n",
    "    ['#D5D5E5', green, red])\n",
    "plotted = 0\n",
    "i = 0\n",
    "while plotted < nr_plots:\n",
    "    target = targets[i]\n",
    "    prediction = predictions[i]\n",
    "    prediction = (prediction > 0.5).float()\n",
    "    prediction[target == -1] = -1\n",
    "    sample = (prediction, target)\n",
    "    if torch.count_nonzero(sample[1] == 1) > 20:\n",
    "        for idx in range(2):\n",
    "            mat = axs[plotted, idx].imshow(sample[idx], cmap=cmap, vmin=-1.5, vmax=1.5, interpolation='nearest')\n",
    "            # cax = plt.colorbar(mat, ticks=np.arange(-1, 2), ax=axs[plotted, idx])\n",
    "            # cax.ax.set_yticklabels(['unknown', 'primary', 'prim. defores.'])\n",
    "            axs[plotted, idx].set_title(titles[idx])\n",
    "            axs[plotted, idx].axis('off')\n",
    "        plotted += 1\n",
    "    i += 1\n",
    "plt.show()"
   ],
   "metadata": {
    "collapsed": false,
    "ExecuteTime": {
     "start_time": "2023-05-17T17:46:50.783012Z",
     "end_time": "2023-05-17T17:46:51.750282Z"
    }
   }
  },
  {
   "cell_type": "code",
   "execution_count": null,
   "outputs": [],
   "source": [],
   "metadata": {
    "collapsed": false
   }
  }
 ],
 "metadata": {
  "kernelspec": {
   "display_name": "Python 3",
   "language": "python",
   "name": "python3"
  },
  "language_info": {
   "codemirror_mode": {
    "name": "ipython",
    "version": 2
   },
   "file_extension": ".py",
   "mimetype": "text/x-python",
   "name": "python",
   "nbconvert_exporter": "python",
   "pygments_lexer": "ipython2",
   "version": "2.7.6"
  }
 },
 "nbformat": 4,
 "nbformat_minor": 0
}
