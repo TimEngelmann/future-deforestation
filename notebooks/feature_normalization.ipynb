{
 "cells": [
  {
   "cell_type": "code",
   "execution_count": null,
   "metadata": {
    "ExecuteTime": {
     "end_time": "2023-04-27T00:52:28.361459Z",
     "start_time": "2023-04-27T00:52:28.351597Z"
    }
   },
   "outputs": [],
   "source": [
    "import torch\n",
    "import pandas as pd\n",
    "import plotly.express as px\n",
    "import numpy as np"
   ]
  },
  {
   "cell_type": "code",
   "execution_count": null,
   "metadata": {
    "ExecuteTime": {
     "end_time": "2023-04-27T00:52:55.663156Z",
     "start_time": "2023-04-27T00:52:55.654207Z"
    }
   },
   "outputs": [],
   "source": [
    "train_features = torch.load('../data/processed/train_features.pt')\n",
    "train_features_df = pd.DataFrame(train_features.numpy(),\n",
    "                                 columns=[\"y\", \"x\", \"1y\", \"5y\", \"10y\", \"urban\", \"slope\",\n",
    "                                          \"landuse\", \"soil\", \"current\", \"target\"])"
   ]
  },
  {
   "cell_type": "code",
   "execution_count": null,
   "metadata": {
    "ExecuteTime": {
     "end_time": "2023-04-27T00:37:40.751024Z",
     "start_time": "2023-04-27T00:37:40.743414Z"
    }
   },
   "outputs": [],
   "source": [
    "train_features_cont = train_features_df[[\"1y\", \"5y\", \"10y\", \"urban\", \"slope\"]]"
   ]
  },
  {
   "cell_type": "code",
   "execution_count": null,
   "metadata": {
    "ExecuteTime": {
     "end_time": "2023-04-27T00:50:55.224801Z",
     "start_time": "2023-04-27T00:50:55.158336Z"
    }
   },
   "outputs": [],
   "source": [
    "train_features_cont.describe()"
   ]
  },
  {
   "cell_type": "code",
   "execution_count": null,
   "metadata": {
    "ExecuteTime": {
     "end_time": "2023-04-27T00:32:39.220918Z",
     "start_time": "2023-04-27T00:32:36.897218Z"
    }
   },
   "outputs": [],
   "source": [
    "fig = px.histogram(train_features_cont, x=[\"1y\", \"5y\", \"10y\", \"urban\", \"slope\"], marginal=\"box\", nbins=100)\n",
    "fig.show()"
   ]
  },
  {
   "cell_type": "code",
   "execution_count": null,
   "metadata": {
    "ExecuteTime": {
     "end_time": "2023-04-27T00:37:45.115338Z",
     "start_time": "2023-04-27T00:37:45.077151Z"
    }
   },
   "outputs": [],
   "source": [
    "train_features_cont_log = np.log(train_features_cont + 1)\n",
    "mean = np.mean(train_features_cont_log, axis=0)\n",
    "std = np.std(train_features_cont_log, axis=0)\n",
    "train_features_cont_log = (train_features_cont_log - mean) / std"
   ]
  },
  {
   "cell_type": "code",
   "execution_count": null,
   "metadata": {
    "ExecuteTime": {
     "end_time": "2023-04-27T00:38:25.283794Z",
     "start_time": "2023-04-27T00:38:22.482703Z"
    }
   },
   "outputs": [],
   "source": [
    "fig = px.histogram(train_features_cont_log, x=[\"1y\", \"5y\", \"10y\", \"urban\", \"slope\"], marginal=\"box\", nbins=100)\n",
    "fig.show()"
   ]
  },
  {
   "cell_type": "code",
   "execution_count": null,
   "metadata": {
    "ExecuteTime": {
     "end_time": "2023-04-27T00:39:22.723725Z",
     "start_time": "2023-04-27T00:39:22.718006Z"
    }
   },
   "outputs": [],
   "source": [
    "print(mean)"
   ]
  },
  {
   "cell_type": "code",
   "execution_count": null,
   "metadata": {
    "ExecuteTime": {
     "end_time": "2023-04-27T00:41:35.805864Z",
     "start_time": "2023-04-27T00:41:35.796099Z"
    }
   },
   "outputs": [],
   "source": [
    "print(std)"
   ]
  },
  {
   "cell_type": "code",
   "execution_count": null,
   "metadata": {},
   "outputs": [],
   "source": [
    "train_features_cont_log.describe()"
   ]
  },
  {
   "cell_type": "code",
   "execution_count": null,
   "metadata": {},
   "outputs": [],
   "source": [
    "weights = train_features_cont[\"5y\"].copy()\n",
    "# weights = weights.max() + 1 - weights\n",
    "# weights = weights.max() - weights\n",
    "weights = weights.max() * np.exp(-2.5/weights.max() * weights)"
   ]
  },
  {
   "cell_type": "code",
   "execution_count": null,
   "metadata": {},
   "outputs": [],
   "source": [
    "import matplotlib.pyplot as plt\n",
    "plt.hist(train_features_cont[\"5y\"], bins=50, alpha=0.2)\n",
    "plt.show()"
   ]
  },
  {
   "cell_type": "code",
   "execution_count": null,
   "metadata": {},
   "outputs": [],
   "source": [
    "plt.hist(weights, bins=50, alpha=0.2)\n",
    "plt.show()"
   ]
  },
  {
   "cell_type": "code",
   "execution_count": null,
   "metadata": {},
   "outputs": [],
   "source": [
    "fig = px.histogram(train_features_df, x=\"5y\", marginal=\"box\", color=\"target\", nbins=100)\n",
    "fig.show()"
   ]
  },
  {
   "cell_type": "code",
   "execution_count": null,
   "metadata": {},
   "outputs": [],
   "source": []
  }
 ],
 "metadata": {
  "kernelspec": {
   "display_name": "Python 3 (ipykernel)",
   "language": "python",
   "name": "python3"
  },
  "language_info": {
   "codemirror_mode": {
    "name": "ipython",
    "version": 3
   },
   "file_extension": ".py",
   "mimetype": "text/x-python",
   "name": "python",
   "nbconvert_exporter": "python",
   "pygments_lexer": "ipython3",
   "version": "3.9.16"
  }
 },
 "nbformat": 4,
 "nbformat_minor": 1
}
