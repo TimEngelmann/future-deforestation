{
 "cells": [
  {
   "cell_type": "markdown",
   "source": [
    "# Random Forest baseline for tile-wise classification"
   ],
   "metadata": {
    "collapsed": false
   }
  },
  {
   "cell_type": "code",
   "execution_count": null,
   "outputs": [],
   "source": [
    "import torch\n",
    "import torchvision\n",
    "import pandas as pd\n",
    "import numpy as np\n",
    "\n",
    "from sklearn.ensemble import RandomForestClassifier\n",
    "from sklearn.metrics import accuracy_score, f1_score, precision_score, recall_score\n",
    "from sklearn.metrics import confusion_matrix\n",
    "from sklearn.metrics import precision_recall_curve\n",
    "import matplotlib.pyplot as plt"
   ],
   "metadata": {
    "collapsed": false,
    "ExecuteTime": {
     "start_time": "2023-09-16T18:36:07.071746Z",
     "end_time": "2023-09-16T18:36:08.788264Z"
    }
   }
  },
  {
   "cell_type": "code",
   "execution_count": null,
   "outputs": [],
   "source": [
    "train_features = torch.load('../data/processed/train_features.pt')\n",
    "train_features = pd.DataFrame(train_features.numpy().astype(np.float32),\n",
    "                                 columns=[\"y\", \"x\", \"1y\", \"5y\", \"10y\", \"urban\", \"slope\",\n",
    "                                          \"landuse\", \"soil\", \"current\", \"target\"])"
   ],
   "metadata": {
    "collapsed": false,
    "ExecuteTime": {
     "start_time": "2023-09-16T18:36:09.903834Z",
     "end_time": "2023-09-16T18:36:09.912294Z"
    }
   }
  },
  {
   "cell_type": "code",
   "execution_count": null,
   "outputs": [],
   "source": [
    "train_features[[\"1y\", \"5y\", \"10y\", \"urban\", \"slope\"]] = np.log(train_features[[\"1y\", \"5y\", \"10y\", \"urban\", \"slope\"]] + 10)\n",
    "\n",
    "feature_names = [\"y\", \"x\", \"1y\", \"5y\", \"10y\", \"urban\", \"slope\"]\n",
    "mean = np.mean(train_features[feature_names], axis=0)\n",
    "std = np.std(train_features[feature_names], axis=0)\n",
    "train_features[feature_names] = (train_features[feature_names] - mean) / std"
   ],
   "metadata": {
    "collapsed": false,
    "ExecuteTime": {
     "start_time": "2023-09-16T18:36:11.201905Z",
     "end_time": "2023-09-16T18:36:11.240544Z"
    }
   }
  },
  {
   "cell_type": "code",
   "execution_count": null,
   "outputs": [],
   "source": [
    "# replace target with aggregated target\n",
    "input_px = 50\n",
    "train_layers = torch.load(\"../data/processed/train_layers.pt\")\n",
    "train_layers = torchvision.transforms.functional.center_crop(train_layers, (input_px, input_px))\n",
    "target_layers = train_layers[:,-1,:,:] == 4\n",
    "del train_layers\n",
    "target = torch.count_nonzero(target_layers, dim=(1,2)) > 0\n",
    "train_features[\"target\"] = target\n",
    "del target_layers\n",
    "\n",
    "train_features[\"target\"] = train_features[\"target\"].replace(2, 0)\n",
    "train_features[\"target\"] = train_features[\"target\"].replace(4, 1)\n",
    "\n",
    "X_train = train_features[feature_names]\n",
    "y_train = train_features[\"target\"]"
   ],
   "metadata": {
    "collapsed": false,
    "ExecuteTime": {
     "start_time": "2023-09-16T18:36:13.230985Z",
     "end_time": "2023-09-16T18:36:17.205392Z"
    }
   }
  },
  {
   "cell_type": "code",
   "execution_count": null,
   "outputs": [],
   "source": [
    "train_features.describe()"
   ],
   "metadata": {
    "collapsed": false,
    "ExecuteTime": {
     "start_time": "2023-09-16T18:36:18.103707Z",
     "end_time": "2023-09-16T18:36:18.168132Z"
    }
   }
  },
  {
   "cell_type": "code",
   "execution_count": null,
   "outputs": [],
   "source": [
    "val_features = torch.load('../data/processed/val_features.pt')\n",
    "val_features = pd.DataFrame(val_features.numpy().astype(np.float32),\n",
    "                                 columns=[\"y\", \"x\", \"1y\", \"5y\", \"10y\", \"urban\", \"slope\",\n",
    "                                          \"landuse\", \"soil\", \"current\", \"target\"])\n",
    "val_features[[\"1y\", \"5y\", \"10y\", \"urban\", \"slope\"]] = np.log(val_features[[\"1y\", \"5y\", \"10y\", \"urban\", \"slope\"]] + 10)\n",
    "val_features[feature_names] = (val_features[feature_names] - mean) / std\n",
    "\n",
    "# replace target with aggregated target\n",
    "val_layers = torch.load(\"../data/processed/val_layers.pt\")\n",
    "val_layers = torchvision.transforms.functional.center_crop(val_layers, (input_px, input_px))\n",
    "target = torch.count_nonzero(val_layers[:,-1,:,:] == 4, dim=(1,2)) > 0\n",
    "val_features[\"target\"] = target\n",
    "del val_layers\n",
    "\n",
    "val_features[\"target\"] = val_features[\"target\"].replace(2, 0)\n",
    "val_features[\"target\"] = val_features[\"target\"].replace(4, 1)\n",
    "\n",
    "X_val = val_features[feature_names]\n",
    "y_val = val_features[\"target\"]"
   ],
   "metadata": {
    "collapsed": false,
    "ExecuteTime": {
     "start_time": "2023-09-16T18:38:43.644874Z",
     "end_time": "2023-09-16T18:38:44.221413Z"
    }
   }
  },
  {
   "cell_type": "code",
   "execution_count": null,
   "outputs": [],
   "source": [
    "# weight_target_class_arr = [0.5,0.6,0.7,0.8,0.9,0.99,0.999,0.9999,0.99999]\n",
    "weight_target_class_arr = [0.5]\n",
    "\n",
    "# hyperparameter tuning\n",
    "for weight_target_class in weight_target_class_arr:\n",
    "    class_weights = {0:1-weight_target_class,\n",
    "                     1:weight_target_class}\n",
    "    clf = RandomForestClassifier(class_weight=class_weights, random_state=42)\n",
    "    clf.fit(X_train, y_train)\n",
    "\n",
    "    probabilities = clf.predict_proba(X_val)[:, 1]\n",
    "    precision, recall, thresholds = precision_recall_curve(y_val, probabilities)\n",
    "    f1 = 2 * precision[:-1] * recall[:-1] / (precision[:-1] + recall[:-1])\n",
    "    threshold = thresholds[np.argmax(f1)]\n",
    "    print(\"Weight target class: \", weight_target_class)\n",
    "    print(\"Threshold: \", threshold)\n",
    "    print(\"F1: \", np.max(f1))\n",
    "    print(\"Precision: \", precision[np.argmax(f1)])\n",
    "    print(\"Recall: \", recall[np.argmax(f1)])\n"
   ],
   "metadata": {
    "collapsed": false,
    "ExecuteTime": {
     "start_time": "2023-09-16T18:36:24.946443Z",
     "end_time": "2023-09-16T18:36:49.402534Z"
    }
   }
  },
  {
   "cell_type": "code",
   "execution_count": null,
   "outputs": [],
   "source": [
    "predictions = clf.predict_proba(X_val)\n",
    "predictions = predictions[:, 1] >= threshold # 0.31\n",
    "print(\"Accuracy: \", accuracy_score(y_val, predictions))\n",
    "print(\"F1: \", f1_score(y_val, predictions))\n",
    "print(\"Precision: \", precision_score(y_val, predictions))\n",
    "print(\"Recall: \", recall_score(y_val, predictions))"
   ],
   "metadata": {
    "collapsed": false,
    "ExecuteTime": {
     "start_time": "2023-09-16T18:38:47.417231Z",
     "end_time": "2023-09-16T18:38:48.177359Z"
    }
   }
  },
  {
   "cell_type": "code",
   "execution_count": null,
   "outputs": [],
   "source": [
    "# confusion matrix\n",
    "confusion_matrix(y_val, predictions)"
   ],
   "metadata": {
    "collapsed": false,
    "ExecuteTime": {
     "start_time": "2023-09-16T18:38:58.365074Z",
     "end_time": "2023-09-16T18:38:58.371530Z"
    }
   }
  },
  {
   "cell_type": "code",
   "execution_count": null,
   "outputs": [],
   "source": [
    "np.count_nonzero(predictions == 1) / len(predictions)"
   ],
   "metadata": {
    "collapsed": false,
    "ExecuteTime": {
     "start_time": "2023-09-16T18:39:10.215727Z",
     "end_time": "2023-09-16T18:39:10.221085Z"
    }
   }
  },
  {
   "cell_type": "code",
   "execution_count": null,
   "outputs": [],
   "source": [
    "# plot f1 score over chosen threshold\n",
    "probabilities = clf.predict_proba(X_val)[:, 1]\n",
    "precision, recall, thresholds = precision_recall_curve(y_val, probabilities)\n",
    "plt.plot(thresholds, precision[:-1], label=\"precision\")\n",
    "plt.plot(thresholds, recall[:-1], label=\"recall\")\n",
    "f1 = 2 * precision[:-1] * recall[:-1] / (precision[:-1] + recall[:-1])\n",
    "plt.plot(thresholds, f1, label=\"f1\")\n",
    "plt.legend()\n",
    "plt.show()"
   ],
   "metadata": {
    "collapsed": false,
    "ExecuteTime": {
     "start_time": "2023-09-16T18:39:13.925477Z",
     "end_time": "2023-09-16T18:39:14.798920Z"
    }
   }
  },
  {
   "cell_type": "code",
   "execution_count": null,
   "outputs": [],
   "source": [
    "probabilities"
   ],
   "metadata": {
    "collapsed": false,
    "ExecuteTime": {
     "start_time": "2023-09-16T18:39:24.359549Z",
     "end_time": "2023-09-16T18:39:24.365695Z"
    }
   }
  },
  {
   "cell_type": "markdown",
   "source": [
    "# Data statistics"
   ],
   "metadata": {
    "collapsed": false
   }
  },
  {
   "cell_type": "code",
   "execution_count": null,
   "outputs": [],
   "source": [
    "# cross correlation matrix\n",
    "corr = train_features.corr()\n",
    "plt.imshow(corr, cmap=\"RdYlGn\")\n",
    "plt.colorbar()\n",
    "plt.show()\n",
    "# plot last row\n",
    "plt.imshow(corr.iloc[-1, :-1].values.reshape(1,10))\n",
    "plt.xticks(np.arange(10), corr.columns[:-1])\n",
    "plt.colorbar()\n",
    "plt.show()\n",
    "corr"
   ],
   "metadata": {
    "collapsed": false,
    "ExecuteTime": {
     "start_time": "2023-09-16T18:39:26.699096Z",
     "end_time": "2023-09-16T18:39:26.899269Z"
    }
   }
  },
  {
   "cell_type": "code",
   "execution_count": null,
   "outputs": [],
   "source": [
    "# get feature importance of clf\n",
    "importances = clf.feature_importances_\n",
    "# plot feature importance orderd by importance\n",
    "feature_names = [\"y\", \"x\", \"1y\", \"5y\", \"10y\", \"urban\", \"slope\"]\n",
    "feature_names_sorted = feature_names.copy()\n",
    "indices = np.argsort(importances)\n",
    "plt.barh(range(len(indices)), importances[indices], align='center')\n",
    "plt.yticks(range(len(indices)), [feature_names_sorted[i] for i in indices])\n",
    "plt.xlabel('Relative Importance')\n",
    "plt.show()"
   ],
   "metadata": {
    "collapsed": false,
    "ExecuteTime": {
     "start_time": "2023-09-16T18:39:30.280535Z",
     "end_time": "2023-09-16T18:39:30.361800Z"
    }
   }
  },
  {
   "cell_type": "code",
   "execution_count": null,
   "outputs": [],
   "source": [],
   "metadata": {
    "collapsed": false
   }
  }
 ],
 "metadata": {
  "kernelspec": {
   "display_name": "Python 3",
   "language": "python",
   "name": "python3"
  },
  "language_info": {
   "codemirror_mode": {
    "name": "ipython",
    "version": 2
   },
   "file_extension": ".py",
   "mimetype": "text/x-python",
   "name": "python",
   "nbconvert_exporter": "python",
   "pygments_lexer": "ipython2",
   "version": "2.7.6"
  }
 },
 "nbformat": 4,
 "nbformat_minor": 0
}
