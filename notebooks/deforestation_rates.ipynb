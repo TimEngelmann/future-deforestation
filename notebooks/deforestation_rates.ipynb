{
 "cells": [
  {
   "cell_type": "code",
   "execution_count": 71,
   "metadata": {},
   "outputs": [],
   "source": [
    "import numpy as np\n",
    "import rasterio\n",
    "import rasterio.mask\n",
    "from rasterio.windows import Window\n",
    "import matplotlib.pyplot as plt\n",
    "from matplotlib import colors\n",
    "from sklearn.model_selection import train_test_split\n",
    "import torch\n",
    "import matplotlib as mpl\n",
    "from rasterio.warp import calculate_default_transform, reproject, Resampling\n",
    "import os\n",
    "\n",
    "def transform_crs(dst_crs, resolution):\n",
    "\n",
    "    input_paths = []\n",
    "    output_paths = []\n",
    "\n",
    "    # transition data\n",
    "    for year_start, year_end in zip(np.arange(2000,2020),np.arange(2001,2021)):\n",
    "        input_paths.append(f\"../data/raw/biomass/amazonia/{resolution}m/additional/\" + f\"mapbiomas-brazil-collection-70-amazonia-{year_start}_{year_end}.tif\")\n",
    "        output_paths.append(f\"../data/interim/biomass/amazonia/{resolution}m/additional/\" + f\"transition_{year_start}_{year_end}.tif\")\n",
    "\n",
    "    for input_path, output_path in zip(input_paths, output_paths):\n",
    "        with rasterio.open(input_path) as src:\n",
    "            transform, width, height = calculate_default_transform(\n",
    "                src.crs, dst_crs, src.width, src.height, *src.bounds)\n",
    "            kwargs = src.meta.copy()\n",
    "            kwargs.update({\n",
    "                'crs': dst_crs,\n",
    "                'transform': transform,\n",
    "                'width': width,\n",
    "                'height': height\n",
    "            })\n",
    "            with rasterio.open(output_path, 'w', **kwargs) as dst:\n",
    "                for i in range(1, src.count + 1):\n",
    "                    reproject(\n",
    "                        source=rasterio.band(src, i),\n",
    "                        destination=rasterio.band(dst, i),\n",
    "                        src_transform=src.transform,\n",
    "                        src_crs=src.crs,\n",
    "                        dst_transform=transform,\n",
    "                        dst_crs=dst_crs,\n",
    "                        resampling=Resampling.nearest)\n",
    "                    \n",
    "# function to load biomass data\n",
    "def load_biomass_data(year=None, year_end=None, folder=\"interim\", shape=None, resolution=250, delta=None, name=None, additional=True):\n",
    "    \n",
    "    # determine the path to load from from\n",
    "    if additional:\n",
    "        path_bio = f\"../data/{folder}/biomass/amazonia/{resolution}m/additional/\" \n",
    "    else:\n",
    "        path_bio = f\"../data/{folder}/biomass/amazonia/{resolution}m/\"\n",
    "    if name is None:\n",
    "        path_bio = path_bio + f\"biomass_{year}.tif\" if year_end is None else path_bio + f\"transition_{year}_{year_end}.tif\"\n",
    "    else:\n",
    "        path_bio = path_bio + name + \".tif\"\n",
    "\n",
    "    nodata = 255 if year_end is None else False\n",
    "\n",
    "    with rasterio.open(path_bio) as src:\n",
    "        out_meta = src.meta\n",
    "        if shape is not None:\n",
    "            bio_data, out_transform = rasterio.mask.mask(src, shape, crop=True, nodata=nodata)\n",
    "            bio_data = bio_data.squeeze()\n",
    "            out_meta.update({\"driver\": \"GTiff\",\n",
    "                 \"height\": bio_data.shape[0],\n",
    "                 \"width\": bio_data.shape[1],\n",
    "                 \"transform\": out_transform})\n",
    "        else:\n",
    "            bio_data = src.read(1)\n",
    "    bio_data = torch.from_numpy(bio_data)\n",
    "    if delta is not None:\n",
    "        diff_x = int((bio_data.shape[1]%delta)/2 + delta)\n",
    "        diff_y = int((bio_data.shape[0]%delta)/2 + delta)\n",
    "        bio_data = torch.nn.functional.pad(bio_data, (diff_y, diff_y, diff_x, diff_x), value=nodata)\n",
    "    return bio_data, out_meta\n",
    "                \n",
    "# function to transform labels to 0=no-transition, 1=transition\n",
    "def transform_transition_to_labels(transition_data):\n",
    "    forest_labels = [1,3,4,5,49]\n",
    "    deforestation_labels = [14,15,18,19,39,20,40,61,41,36,46,47,48,9,21,\n",
    "                            22,23,24,30,25]\n",
    "    transition_labels = []\n",
    "    for forest_label in forest_labels:\n",
    "        for deforestation_label in deforestation_labels:\n",
    "            transition_labels.append(100*forest_label+deforestation_label)\n",
    "    transition_data_new = np.zeros_like(transition_data, dtype=bool)\n",
    "    for transition_label in transition_labels:\n",
    "        transition_data_new[transition_data == transition_label] = True\n",
    "    return transition_data_new\n",
    "\n",
    "# function to transform labels to 0=forest, 1=natural, 2=farming, 3=urban, 4=water, 255=unknown\n",
    "def transform_biodata_to_labels(bio_data):\n",
    "    class_dict = {1:0, 3:0, 4:0, 5:0,49:0, # forest\n",
    "                10:1,11:1,12:1,32:1,29:1,13:1, 13:1, 50:1, # natural\n",
    "                14:2,15:2,18:2,19:2,39:2,20:2,40:2,61:2,41:2,36:2,46:2,47:2,48:2,9:2,21:2, # farming\n",
    "                22:3,23:3,24:3,30:3,25:3, # urban\n",
    "                26:4,33:4,31:4, # water\n",
    "                27:255,0:255, 255:255} # unobserved\n",
    "    bio_data_new = np.zeros_like(bio_data)\n",
    "    for key, value in class_dict.items():\n",
    "        bio_data_new[bio_data == key] = value\n",
    "    return bio_data_new\n",
    "\n",
    "def preprocess_data(dst_crs, resolution):\n",
    "    # will transform all data to target crs and save\n",
    "    transform_crs(dst_crs, resolution)\n",
    "\n",
    "    # preprocess transition data\n",
    "    for year_start, year_end in zip(np.arange(2000,2020),np.arange(2001,2021)):\n",
    "        transition_data, out_meta = load_biomass_data(year_start, year_end)\n",
    "        transition_data = transform_transition_to_labels(transition_data)\n",
    "        with rasterio.open(f\"../data/interim/biomass/amazonia/{resolution}m/additional/\" + f\"transition_{year_start}_{year_end}.tif\", \"w\", **out_meta) as dest:\n",
    "            dest.write(np.expand_dims(transition_data, axis=0))"
   ]
  },
  {
   "cell_type": "code",
   "execution_count": 72,
   "metadata": {},
   "outputs": [],
   "source": [
    "dst_crs = 'EPSG:6933'\n",
    "preprocess_data(dst_crs, 250)"
   ]
  },
  {
   "attachments": {},
   "cell_type": "markdown",
   "metadata": {},
   "source": [
    "# Calculate Deforestation rates"
   ]
  },
  {
   "cell_type": "code",
   "execution_count": 73,
   "metadata": {},
   "outputs": [],
   "source": [
    "import geopandas as gpd\n",
    "path = \"../data/raw/biomass/Biomas_250mil/lm_bioma_250.shp\"\n",
    "df = gpd.read_file(path)\n",
    "df['area_6933'] = df.geometry.to_crs(\"EPSG:6933\").area / 10000"
   ]
  },
  {
   "cell_type": "code",
   "execution_count": 74,
   "metadata": {},
   "outputs": [
    {
     "data": {
      "text/html": [
       "<div>\n",
       "<style scoped>\n",
       "    .dataframe tbody tr th:only-of-type {\n",
       "        vertical-align: middle;\n",
       "    }\n",
       "\n",
       "    .dataframe tbody tr th {\n",
       "        vertical-align: top;\n",
       "    }\n",
       "\n",
       "    .dataframe thead th {\n",
       "        text-align: right;\n",
       "    }\n",
       "</style>\n",
       "<table border=\"1\" class=\"dataframe\">\n",
       "  <thead>\n",
       "    <tr style=\"text-align: right;\">\n",
       "      <th></th>\n",
       "      <th>Bioma</th>\n",
       "      <th>CD_Bioma</th>\n",
       "      <th>geometry</th>\n",
       "      <th>area_6933</th>\n",
       "    </tr>\n",
       "  </thead>\n",
       "  <tbody>\n",
       "    <tr>\n",
       "      <th>0</th>\n",
       "      <td>Amazônia</td>\n",
       "      <td>1</td>\n",
       "      <td>MULTIPOLYGON (((-44.08515 -2.41669, -44.08560 ...</td>\n",
       "      <td>4.215443e+08</td>\n",
       "    </tr>\n",
       "    <tr>\n",
       "      <th>1</th>\n",
       "      <td>Caatinga</td>\n",
       "      <td>2</td>\n",
       "      <td>POLYGON ((-41.74080 -2.80826, -41.73673 -2.809...</td>\n",
       "      <td>8.626395e+07</td>\n",
       "    </tr>\n",
       "    <tr>\n",
       "      <th>2</th>\n",
       "      <td>Cerrado</td>\n",
       "      <td>3</td>\n",
       "      <td>POLYGON ((-43.39009 -2.33937, -43.38741 -2.342...</td>\n",
       "      <td>1.984554e+08</td>\n",
       "    </tr>\n",
       "    <tr>\n",
       "      <th>3</th>\n",
       "      <td>Mata Atlântica</td>\n",
       "      <td>4</td>\n",
       "      <td>MULTIPOLYGON (((-48.70814 -28.44851, -48.70994...</td>\n",
       "      <td>1.106845e+08</td>\n",
       "    </tr>\n",
       "    <tr>\n",
       "      <th>4</th>\n",
       "      <td>Pampa</td>\n",
       "      <td>5</td>\n",
       "      <td>POLYGON ((-52.82472 -27.46295, -52.81558 -27.4...</td>\n",
       "      <td>1.939473e+07</td>\n",
       "    </tr>\n",
       "    <tr>\n",
       "      <th>5</th>\n",
       "      <td>Pantanal</td>\n",
       "      <td>6</td>\n",
       "      <td>POLYGON ((-57.75946 -15.72779, -57.75659 -15.7...</td>\n",
       "      <td>1.509610e+07</td>\n",
       "    </tr>\n",
       "  </tbody>\n",
       "</table>\n",
       "</div>"
      ],
      "text/plain": [
       "            Bioma  CD_Bioma  \\\n",
       "0        Amazônia         1   \n",
       "1        Caatinga         2   \n",
       "2         Cerrado         3   \n",
       "3  Mata Atlântica         4   \n",
       "4           Pampa         5   \n",
       "5        Pantanal         6   \n",
       "\n",
       "                                            geometry     area_6933  \n",
       "0  MULTIPOLYGON (((-44.08515 -2.41669, -44.08560 ...  4.215443e+08  \n",
       "1  POLYGON ((-41.74080 -2.80826, -41.73673 -2.809...  8.626395e+07  \n",
       "2  POLYGON ((-43.39009 -2.33937, -43.38741 -2.342...  1.984554e+08  \n",
       "3  MULTIPOLYGON (((-48.70814 -28.44851, -48.70994...  1.106845e+08  \n",
       "4  POLYGON ((-52.82472 -27.46295, -52.81558 -27.4...  1.939473e+07  \n",
       "5  POLYGON ((-57.75946 -15.72779, -57.75659 -15.7...  1.509610e+07  "
      ]
     },
     "execution_count": 74,
     "metadata": {},
     "output_type": "execute_result"
    }
   ],
   "source": [
    "df"
   ]
  },
  {
   "cell_type": "code",
   "execution_count": 75,
   "metadata": {},
   "outputs": [
    {
     "data": {
      "text/plain": [
       "<Geographic 2D CRS: EPSG:4674>\n",
       "Name: SIRGAS 2000\n",
       "Axis Info [ellipsoidal]:\n",
       "- Lat[north]: Geodetic latitude (degree)\n",
       "- Lon[east]: Geodetic longitude (degree)\n",
       "Area of Use:\n",
       "- name: Latin America - Central America and South America - onshore and offshore. Brazil - onshore and offshore.\n",
       "- bounds: (-122.19, -59.87, -25.28, 32.72)\n",
       "Datum: Sistema de Referencia Geocentrico para las AmericaS 2000\n",
       "- Ellipsoid: GRS 1980\n",
       "- Prime Meridian: Greenwich"
      ]
     },
     "execution_count": 75,
     "metadata": {},
     "output_type": "execute_result"
    }
   ],
   "source": [
    "df.crs"
   ]
  },
  {
   "cell_type": "code",
   "execution_count": 76,
   "metadata": {},
   "outputs": [],
   "source": [
    "bio_data_2010, _ = load_biomass_data(2010, additional=False)\n",
    "transition_2005_2010, _ = load_biomass_data(2005, 2010, additional=False)\n",
    "transition_2010_2015, _ = load_biomass_data(2010, 2015, additional=False)"
   ]
  },
  {
   "cell_type": "code",
   "execution_count": 67,
   "metadata": {},
   "outputs": [
    {
     "data": {
      "image/png": "[encoded data removed]",
      "text/plain": [
       "<Figure size 511.732x480 with 2 Axes>"
      ]
     },
     "metadata": {},
     "output_type": "display_data"
    }
   ],
   "source": [
    "cmap = colors.ListedColormap(['#129912','#bbfcac', '#ffffb2', '#ea9999', '#0000ff', '#D5D5E5'])\n",
    "mat = plt.matshow(bio_data_2010,cmap=cmap,vmin = -.5, vmax = 5.5)\n",
    "cax = plt.colorbar(mat, ticks=np.arange(0,6))\n",
    "cax.ax.set_yticklabels(['forest', 'natural', 'farming', 'urban', 'water', 'unknown'])\n",
    "plt.show()"
   ]
  },
  {
   "cell_type": "code",
   "execution_count": 119,
   "metadata": {},
   "outputs": [],
   "source": [
    "def load_raw_data(year_start, year_end=None, shape=None, resolution=250):\n",
    "    path_bio = f\"../data/raw/biomass/amazonia/{resolution}m/\"\n",
    "    path_bio = path_bio + f\"mapbiomas-brazil-collection-70-amazonia-{year_start}.tif\" if year_end is None else path_bio + f\"additional/mapbiomas-brazil-collection-70-amazonia-{year_start}_{year_end}.tif\"\n",
    "    nodata = 255 if year_end is None else False\n",
    "    with rasterio.open(path_bio) as src:\n",
    "        out_meta = src.meta\n",
    "        if shape is not None:\n",
    "            bio_data, out_transform = rasterio.mask.mask(src, shape, crop=True, nodata=nodata)\n",
    "            bio_data = bio_data.squeeze()\n",
    "            out_meta.update({\"driver\": \"GTiff\",\n",
    "                 \"height\": bio_data.shape[0],\n",
    "                 \"width\": bio_data.shape[1],\n",
    "                 \"transform\": out_transform})\n",
    "        else:\n",
    "            bio_data = src.read(1)\n",
    "    bio_data = torch.from_numpy(bio_data)\n",
    "    return bio_data, out_meta\n",
    "bio_data_2010_untransformed, _ = load_raw_data(2010, year_end=None, shape=df[df.Bioma == \"Amazônia\"].geometry, resolution=250)\n",
    "bio_data_2010_untransformed = transform_biodata_to_labels(bio_data_2010_untransformed)"
   ]
  },
  {
   "cell_type": "code",
   "execution_count": 66,
   "metadata": {},
   "outputs": [
    {
     "data": {
      "image/png": "[encoded data removed]",
      "text/plain": [
       "<Figure size 669.356x480 with 2 Axes>"
      ]
     },
     "metadata": {},
     "output_type": "display_data"
    }
   ],
   "source": [
    "cmap = colors.ListedColormap(['#129912','#bbfcac', '#ffffb2', '#ea9999', '#0000ff', '#D5D5E5'])\n",
    "mat = plt.matshow(bio_data_2010_untransformed,cmap=cmap,vmin = -.5, vmax = 5.5)\n",
    "cax = plt.colorbar(mat, ticks=np.arange(0,6))\n",
    "cax.ax.set_yticklabels(['forest', 'natural', 'farming', 'urban', 'water', 'unknown'])\n",
    "plt.show()"
   ]
  },
  {
   "cell_type": "code",
   "execution_count": 122,
   "metadata": {},
   "outputs": [
    {
     "name": "stdout",
     "output_type": "stream",
     "text": [
      "Area [ha] - reported online:  419694300\n",
      "Area [ha] - 250m px:  427199893.75\n",
      "Adpated pixel dim:  247.7941083176385\n"
     ]
    }
   ],
   "source": [
    "observed_px = np.count_nonzero(bio_data_2010_untransformed != 255)\n",
    "# area_amazonia = int(df[df.Bioma == \"Amazônia\"].area_6933)\n",
    "area_amazonia = 4196943 * 100\n",
    "adapted_px_dim_untransform = np.sqrt(area_amazonia * 10000 / observed_px)\n",
    "print(\"Area [ha] - reported online: \", 4196943 * 100)\n",
    "print(\"Area [ha] - 250m px: \", observed_px * 250**2 / 10000)\n",
    "print(\"Adpated pixel dim: \", adapted_px_dim_untransform)"
   ]
  },
  {
   "cell_type": "code",
   "execution_count": 78,
   "metadata": {},
   "outputs": [
    {
     "name": "stdout",
     "output_type": "stream",
     "text": [
      "Area [ha] - reported online:  419694300\n",
      "Area [ha] - EPSG:6933:  421544315\n",
      "Area [ha] - 250m px:  452349718.75\n",
      "Adpated pixel dim:  241.33730835579587\n"
     ]
    }
   ],
   "source": [
    "observed_px = np.count_nonzero(bio_data_2010 != 255)\n",
    "area_amazonia = int(df[df.Bioma == \"Amazônia\"].area_6933)\n",
    "adapted_px_dim = np.sqrt(area_amazonia * 10000 / observed_px)\n",
    "print(\"Area [ha] - reported online: \", 4196943 * 100)\n",
    "print(\"Area [ha] - EPSG:6933: \", area_amazonia)\n",
    "print(\"Area [ha] - 250m px: \", observed_px * 250**2 / 10000)\n",
    "print(\"Adpated pixel dim: \", adapted_px_dim)"
   ]
  },
  {
   "cell_type": "code",
   "execution_count": 125,
   "metadata": {},
   "outputs": [],
   "source": [
    "deforestation_rate = []\n",
    "for year_start, year_end in zip(np.arange(2000,2020),np.arange(2001,2021)):\n",
    "    transition_data, out_meta = load_biomass_data(year_start, year_end)\n",
    "    deforestation_rate.append(torch.sum(transition_data) * adapted_px_dim**2 / 10000)"
   ]
  },
  {
   "cell_type": "code",
   "execution_count": 124,
   "metadata": {},
   "outputs": [],
   "source": [
    "deforestation_rate_raw = []\n",
    "for year_start, year_end in zip(np.arange(2000,2020),np.arange(2001,2021)):\n",
    "    transition_data, out_meta = load_raw_data(year_start, year_end)\n",
    "    transition_data = transform_transition_to_labels(transition_data)\n",
    "    deforestation_rate_raw.append(np.sum(transition_data) * adapted_px_dim_untransform**2 / 10000)"
   ]
  },
  {
   "cell_type": "code",
   "execution_count": 102,
   "metadata": {},
   "outputs": [],
   "source": [
    "reported = [1658674.60, 1886757.99, 2569816.57, 2241427.52, 1856240.31, 1358708.47, 1040013.11, 969637.09, 531704.23, 463594.51, 547810.70,470476.73, 574083.73,544083.04,705946.23,895557.06,694287.44,792901.58,740159.18,710286.58]"
   ]
  },
  {
   "cell_type": "code",
   "execution_count": 130,
   "metadata": {},
   "outputs": [],
   "source": [
    "import pandas as pd\n",
    "deforestation_df_1 = pd.DataFrame({\n",
    "    \"year\": np.arange(2001,2021),\n",
    "    \"deforestation [ha]\": reported,\n",
    "    \"source\": [\"reported\"] * len(reported)})\n",
    "deforestation_df_2 = pd.DataFrame({\n",
    "    \"year\": np.arange(2001,2021),\n",
    "    \"deforestation [ha]\": deforestation_rate,\n",
    "    \"source\": [\"calculated\"] * len(deforestation_rate)})\n",
    "deforestation_df_3 = pd.DataFrame({\n",
    "    \"year\": np.arange(2001,2021),\n",
    "    \"deforestation [ha]\": deforestation_rate_raw,\n",
    "    \"source\": [\"no transform\"] * len(deforestation_rate_raw)})\n",
    "deforestation_df = pd.concat([deforestation_df_1, deforestation_df_2])"
   ]
  },
  {
   "cell_type": "code",
   "execution_count": 131,
   "metadata": {},
   "outputs": [
    {
     "data": {
      "application/vnd.plotly.v1+json": {
       "config": {
        "plotlyServerURL": "https://plot.ly"
       },
       "data": [
        {
         "hovertemplate": "source=reported<br>year=%{x}<br>deforestation [ha]=%{y}<extra></extra>",
         "legendgroup": "reported",
         "line": {
          "color": "#636efa",
          "dash": "solid"
         },
         "marker": {
          "symbol": "circle"
         },
         "mode": "lines",
         "name": "reported",
         "orientation": "h",
         "showlegend": true,
         "type": "scatter",
         "x": [
          2001,
          2002,
          2003,
          2004,
          2005,
          2006,
          2007,
          2008,
          2009,
          2010,
          2011,
          2012,
          2013,
          2014,
          2015,
          2016,
          2017,
          2018,
          2019,
          2020
         ],
         "xaxis": "x",
         "y": [
          1658674.6,
          1886757.99,
          2569816.57,
          2241427.52,
          1856240.31,
          1358708.47,
          1040013.11,
          969637.09,
          531704.23,
          463594.51,
          547810.7,
          470476.73,
          574083.73,
          544083.04,
          705946.23,
          895557.06,
          694287.44,
          792901.58,
          740159.18,
          710286.58
         ],
         "yaxis": "y"
        },
        {
         "hovertemplate": "source=calculated<br>year=%{x}<br>deforestation [ha]=%{y}<extra></extra>",
         "legendgroup": "calculated",
         "line": {
          "color": "#EF553B",
          "dash": "solid"
         },
         "marker": {
          "symbol": "circle"
         },
         "mode": "lines",
         "name": "calculated",
         "orientation": "h",
         "showlegend": true,
         "type": "scatter",
         "x": [
          2001,
          2002,
          2003,
          2004,
          2005,
          2006,
          2007,
          2008,
          2009,
          2010,
          2011,
          2012,
          2013,
          2014,
          2015,
          2016,
          2017,
          2018,
          2019,
          2020
         ],
         "xaxis": "x",
         "y": [
          1603716.875,
          1825328.375,
          2562757.75,
          2199148,
          1729552.375,
          1288496.125,
          994318.875,
          960892.8125,
          514355.90625,
          462897.625,
          549168.1875,
          509859.46875,
          647920.3125,
          597731.75,
          828202.0625,
          985547.375,
          719892.0625,
          859741,
          793919.8125,
          1279188.75
         ],
         "yaxis": "y"
        }
       ],
       "layout": {
        "legend": {
         "title": {
          "text": "source"
         },
         "tracegroupgap": 0
        },
        "template": {
         "data": {
          "bar": [
           {
            "error_x": {
             "color": "#2a3f5f"
            },
            "error_y": {
             "color": "#2a3f5f"
            },
            "marker": {
             "line": {
              "color": "#E5ECF6",
              "width": 0.5
             },
             "pattern": {
              "fillmode": "overlay",
              "size": 10,
              "solidity": 0.2
             }
            },
            "type": "bar"
           }
          ],
          "barpolar": [
           {
            "marker": {
             "line": {
              "color": "#E5ECF6",
              "width": 0.5
             },
             "pattern": {
              "fillmode": "overlay",
              "size": 10,
              "solidity": 0.2
             }
            },
            "type": "barpolar"
           }
          ],
          "carpet": [
           {
            "aaxis": {
             "endlinecolor": "#2a3f5f",
             "gridcolor": "white",
             "linecolor": "white",
             "minorgridcolor": "white",
             "startlinecolor": "#2a3f5f"
            },
            "baxis": {
             "endlinecolor": "#2a3f5f",
             "gridcolor": "white",
             "linecolor": "white",
             "minorgridcolor": "white",
             "startlinecolor": "#2a3f5f"
            },
            "type": "carpet"
           }
          ],
          "choropleth": [
           {
            "colorbar": {
             "outlinewidth": 0,
             "ticks": ""
            },
            "type": "choropleth"
           }
          ],
          "contour": [
           {
            "colorbar": {
             "outlinewidth": 0,
             "ticks": ""
            },
            "colorscale": [
             [
              0,
              "#0d0887"
             ],
             [
              0.1111111111111111,
              "#46039f"
             ],
             [
              0.2222222222222222,
              "#7201a8"
             ],
             [
              0.3333333333333333,
              "#9c179e"
             ],
             [
              0.4444444444444444,
              "#bd3786"
             ],
             [
              0.5555555555555556,
              "#d8576b"
             ],
             [
              0.6666666666666666,
              "#ed7953"
             ],
             [
              0.7777777777777778,
              "#fb9f3a"
             ],
             [
              0.8888888888888888,
              "#fdca26"
             ],
             [
              1,
              "#f0f921"
             ]
            ],
            "type": "contour"
           }
          ],
          "contourcarpet": [
           {
            "colorbar": {
             "outlinewidth": 0,
             "ticks": ""
            },
            "type": "contourcarpet"
           }
          ],
          "heatmap": [
           {
            "colorbar": {
             "outlinewidth": 0,
             "ticks": ""
            },
            "colorscale": [
             [
              0,
              "#0d0887"
             ],
             [
              0.1111111111111111,
              "#46039f"
             ],
             [
              0.2222222222222222,
              "#7201a8"
             ],
             [
              0.3333333333333333,
              "#9c179e"
             ],
             [
              0.4444444444444444,
              "#bd3786"
             ],
             [
              0.5555555555555556,
              "#d8576b"
             ],
             [
              0.6666666666666666,
              "#ed7953"
             ],
             [
              0.7777777777777778,
              "#fb9f3a"
             ],
             [
              0.8888888888888888,
              "#fdca26"
             ],
             [
              1,
              "#f0f921"
             ]
            ],
            "type": "heatmap"
           }
          ],
          "heatmapgl": [
           {
            "colorbar": {
             "outlinewidth": 0,
             "ticks": ""
            },
            "colorscale": [
             [
              0,
              "#0d0887"
             ],
             [
              0.1111111111111111,
              "#46039f"
             ],
             [
              0.2222222222222222,
              "#7201a8"
             ],
             [
              0.3333333333333333,
              "#9c179e"
             ],
             [
              0.4444444444444444,
              "#bd3786"
             ],
             [
              0.5555555555555556,
              "#d8576b"
             ],
             [
              0.6666666666666666,
              "#ed7953"
             ],
             [
              0.7777777777777778,
              "#fb9f3a"
             ],
             [
              0.8888888888888888,
              "#fdca26"
             ],
             [
              1,
              "#f0f921"
             ]
            ],
            "type": "heatmapgl"
           }
          ],
          "histogram": [
           {
            "marker": {
             "pattern": {
              "fillmode": "overlay",
              "size": 10,
              "solidity": 0.2
             }
            },
            "type": "histogram"
           }
          ],
          "histogram2d": [
           {
            "colorbar": {
             "outlinewidth": 0,
             "ticks": ""
            },
            "colorscale": [
             [
              0,
              "#0d0887"
             ],
             [
              0.1111111111111111,
              "#46039f"
             ],
             [
              0.2222222222222222,
              "#7201a8"
             ],
             [
              0.3333333333333333,
              "#9c179e"
             ],
             [
              0.4444444444444444,
              "#bd3786"
             ],
             [
              0.5555555555555556,
              "#d8576b"
             ],
             [
              0.6666666666666666,
              "#ed7953"
             ],
             [
              0.7777777777777778,
              "#fb9f3a"
             ],
             [
              0.8888888888888888,
              "#fdca26"
             ],
             [
              1,
              "#f0f921"
             ]
            ],
            "type": "histogram2d"
           }
          ],
          "histogram2dcontour": [
           {
            "colorbar": {
             "outlinewidth": 0,
             "ticks": ""
            },
            "colorscale": [
             [
              0,
              "#0d0887"
             ],
             [
              0.1111111111111111,
              "#46039f"
             ],
             [
              0.2222222222222222,
              "#7201a8"
             ],
             [
              0.3333333333333333,
              "#9c179e"
             ],
             [
              0.4444444444444444,
              "#bd3786"
             ],
             [
              0.5555555555555556,
              "#d8576b"
             ],
             [
              0.6666666666666666,
              "#ed7953"
             ],
             [
              0.7777777777777778,
              "#fb9f3a"
             ],
             [
              0.8888888888888888,
              "#fdca26"
             ],
             [
              1,
              "#f0f921"
             ]
            ],
            "type": "histogram2dcontour"
           }
          ],
          "mesh3d": [
           {
            "colorbar": {
             "outlinewidth": 0,
             "ticks": ""
            },
            "type": "mesh3d"
           }
          ],
          "parcoords": [
           {
            "line": {
             "colorbar": {
              "outlinewidth": 0,
              "ticks": ""
             }
            },
            "type": "parcoords"
           }
          ],
          "pie": [
           {
            "automargin": true,
            "type": "pie"
           }
          ],
          "scatter": [
           {
            "fillpattern": {
             "fillmode": "overlay",
             "size": 10,
             "solidity": 0.2
            },
            "type": "scatter"
           }
          ],
          "scatter3d": [
           {
            "line": {
             "colorbar": {
              "outlinewidth": 0,
              "ticks": ""
             }
            },
            "marker": {
             "colorbar": {
              "outlinewidth": 0,
              "ticks": ""
             }
            },
            "type": "scatter3d"
           }
          ],
          "scattercarpet": [
           {
            "marker": {
             "colorbar": {
              "outlinewidth": 0,
              "ticks": ""
             }
            },
            "type": "scattercarpet"
           }
          ],
          "scattergeo": [
           {
            "marker": {
             "colorbar": {
              "outlinewidth": 0,
              "ticks": ""
             }
            },
            "type": "scattergeo"
           }
          ],
          "scattergl": [
           {
            "marker": {
             "colorbar": {
              "outlinewidth": 0,
              "ticks": ""
             }
            },
            "type": "scattergl"
           }
          ],
          "scattermapbox": [
           {
            "marker": {
             "colorbar": {
              "outlinewidth": 0,
              "ticks": ""
             }
            },
            "type": "scattermapbox"
           }
          ],
          "scatterpolar": [
           {
            "marker": {
             "colorbar": {
              "outlinewidth": 0,
              "ticks": ""
             }
            },
            "type": "scatterpolar"
           }
          ],
          "scatterpolargl": [
           {
            "marker": {
             "colorbar": {
              "outlinewidth": 0,
              "ticks": ""
             }
            },
            "type": "scatterpolargl"
           }
          ],
          "scatterternary": [
           {
            "marker": {
             "colorbar": {
              "outlinewidth": 0,
              "ticks": ""
             }
            },
            "type": "scatterternary"
           }
          ],
          "surface": [
           {
            "colorbar": {
             "outlinewidth": 0,
             "ticks": ""
            },
            "colorscale": [
             [
              0,
              "#0d0887"
             ],
             [
              0.1111111111111111,
              "#46039f"
             ],
             [
              0.2222222222222222,
              "#7201a8"
             ],
             [
              0.3333333333333333,
              "#9c179e"
             ],
             [
              0.4444444444444444,
              "#bd3786"
             ],
             [
              0.5555555555555556,
              "#d8576b"
             ],
             [
              0.6666666666666666,
              "#ed7953"
             ],
             [
              0.7777777777777778,
              "#fb9f3a"
             ],
             [
              0.8888888888888888,
              "#fdca26"
             ],
             [
              1,
              "#f0f921"
             ]
            ],
            "type": "surface"
           }
          ],
          "table": [
           {
            "cells": {
             "fill": {
              "color": "#EBF0F8"
             },
             "line": {
              "color": "white"
             }
            },
            "header": {
             "fill": {
              "color": "#C8D4E3"
             },
             "line": {
              "color": "white"
             }
            },
            "type": "table"
           }
          ]
         },
         "layout": {
          "annotationdefaults": {
           "arrowcolor": "#2a3f5f",
           "arrowhead": 0,
           "arrowwidth": 1
          },
          "autotypenumbers": "strict",
          "coloraxis": {
           "colorbar": {
            "outlinewidth": 0,
            "ticks": ""
           }
          },
          "colorscale": {
           "diverging": [
            [
             0,
             "#8e0152"
            ],
            [
             0.1,
             "#c51b7d"
            ],
            [
             0.2,
             "#de77ae"
            ],
            [
             0.3,
             "#f1b6da"
            ],
            [
             0.4,
             "#fde0ef"
            ],
            [
             0.5,
             "#f7f7f7"
            ],
            [
             0.6,
             "#e6f5d0"
            ],
            [
             0.7,
             "#b8e186"
            ],
            [
             0.8,
             "#7fbc41"
            ],
            [
             0.9,
             "#4d9221"
            ],
            [
             1,
             "#276419"
            ]
           ],
           "sequential": [
            [
             0,
             "#0d0887"
            ],
            [
             0.1111111111111111,
             "#46039f"
            ],
            [
             0.2222222222222222,
             "#7201a8"
            ],
            [
             0.3333333333333333,
             "#9c179e"
            ],
            [
             0.4444444444444444,
             "#bd3786"
            ],
            [
             0.5555555555555556,
             "#d8576b"
            ],
            [
             0.6666666666666666,
             "#ed7953"
            ],
            [
             0.7777777777777778,
             "#fb9f3a"
            ],
            [
             0.8888888888888888,
             "#fdca26"
            ],
            [
             1,
             "#f0f921"
            ]
           ],
           "sequentialminus": [
            [
             0,
             "#0d0887"
            ],
            [
             0.1111111111111111,
             "#46039f"
            ],
            [
             0.2222222222222222,
             "#7201a8"
            ],
            [
             0.3333333333333333,
             "#9c179e"
            ],
            [
             0.4444444444444444,
             "#bd3786"
            ],
            [
             0.5555555555555556,
             "#d8576b"
            ],
            [
             0.6666666666666666,
             "#ed7953"
            ],
            [
             0.7777777777777778,
             "#fb9f3a"
            ],
            [
             0.8888888888888888,
             "#fdca26"
            ],
            [
             1,
             "#f0f921"
            ]
           ]
          },
          "colorway": [
           "#636efa",
           "#EF553B",
           "#00cc96",
           "#ab63fa",
           "#FFA15A",
           "#19d3f3",
           "#FF6692",
           "#B6E880",
           "#FF97FF",
           "#FECB52"
          ],
          "font": {
           "color": "#2a3f5f"
          },
          "geo": {
           "bgcolor": "white",
           "lakecolor": "white",
           "landcolor": "#E5ECF6",
           "showlakes": true,
           "showland": true,
           "subunitcolor": "white"
          },
          "hoverlabel": {
           "align": "left"
          },
          "hovermode": "closest",
          "mapbox": {
           "style": "light"
          },
          "paper_bgcolor": "white",
          "plot_bgcolor": "#E5ECF6",
          "polar": {
           "angularaxis": {
            "gridcolor": "white",
            "linecolor": "white",
            "ticks": ""
           },
           "bgcolor": "#E5ECF6",
           "radialaxis": {
            "gridcolor": "white",
            "linecolor": "white",
            "ticks": ""
           }
          },
          "scene": {
           "xaxis": {
            "backgroundcolor": "#E5ECF6",
            "gridcolor": "white",
            "gridwidth": 2,
            "linecolor": "white",
            "showbackground": true,
            "ticks": "",
            "zerolinecolor": "white"
           },
           "yaxis": {
            "backgroundcolor": "#E5ECF6",
            "gridcolor": "white",
            "gridwidth": 2,
            "linecolor": "white",
            "showbackground": true,
            "ticks": "",
            "zerolinecolor": "white"
           },
           "zaxis": {
            "backgroundcolor": "#E5ECF6",
            "gridcolor": "white",
            "gridwidth": 2,
            "linecolor": "white",
            "showbackground": true,
            "ticks": "",
            "zerolinecolor": "white"
           }
          },
          "shapedefaults": {
           "line": {
            "color": "#2a3f5f"
           }
          },
          "ternary": {
           "aaxis": {
            "gridcolor": "white",
            "linecolor": "white",
            "ticks": ""
           },
           "baxis": {
            "gridcolor": "white",
            "linecolor": "white",
            "ticks": ""
           },
           "bgcolor": "#E5ECF6",
           "caxis": {
            "gridcolor": "white",
            "linecolor": "white",
            "ticks": ""
           }
          },
          "title": {
           "x": 0.05
          },
          "xaxis": {
           "automargin": true,
           "gridcolor": "white",
           "linecolor": "white",
           "ticks": "",
           "title": {
            "standoff": 15
           },
           "zerolinecolor": "white",
           "zerolinewidth": 2
          },
          "yaxis": {
           "automargin": true,
           "gridcolor": "white",
           "linecolor": "white",
           "ticks": "",
           "title": {
            "standoff": 15
           },
           "zerolinecolor": "white",
           "zerolinewidth": 2
          }
         }
        },
        "title": {
         "text": "Deforestation in Amazonian Biome in year before"
        },
        "xaxis": {
         "anchor": "y",
         "domain": [
          0,
          1
         ],
         "title": {
          "text": "year"
         }
        },
        "yaxis": {
         "anchor": "x",
         "domain": [
          0,
          1
         ],
         "title": {
          "text": "deforestation [ha]"
         }
        }
       }
      }
     },
     "metadata": {},
     "output_type": "display_data"
    }
   ],
   "source": [
    "import plotly.express as px\n",
    "fig = px.line(deforestation_df, x=\"year\", y=\"deforestation [ha]\", color=\"source\", title=\"Deforestation in Amazonian Biome in year before\")\n",
    "fig.show()"
   ]
  },
  {
   "cell_type": "code",
   "execution_count": 109,
   "metadata": {},
   "outputs": [
    {
     "data": {
      "image/png": "[encoded data removed]",
      "text/plain": [
       "<Figure size 640x480 with 1 Axes>"
      ]
     },
     "metadata": {},
     "output_type": "display_data"
    }
   ],
   "source": [
    "import seaborn as sns\n",
    "sns.set_theme()\n",
    "\n",
    "plt.plot(np.arange(2001,2021), deforestation_rate)\n",
    "plt.plot(np.arange(2001,2021), reported)\n",
    "plt.legend(['Calculated', 'Reported'])\n",
    "plt.title(\"Deforestation in Amazonian Biome\")\n",
    "plt.ylabel(\"deforestation [ha]\")\n",
    "plt.xlabel(\"year\")\n",
    "plt.xticks(np.arange(2001,2021), np.arange(2001,2021))\n",
    "plt.xticks(rotation=90)\n",
    "plt.show()"
   ]
  }
 ],
 "metadata": {
  "kernelspec": {
   "display_name": "sp",
   "language": "python",
   "name": "python3"
  },
  "language_info": {
   "codemirror_mode": {
    "name": "ipython",
    "version": 3
   },
   "file_extension": ".py",
   "mimetype": "text/x-python",
   "name": "python",
   "nbconvert_exporter": "python",
   "pygments_lexer": "ipython3",
   "version": "3.9.16"
  },
  "orig_nbformat": 4
 },
 "nbformat": 4,
 "nbformat_minor": 2
}
