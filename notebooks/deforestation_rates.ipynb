{
 "cells": [
  {
   "cell_type": "markdown",
   "source": [
    "# Calculate deforestation rates for different layers\n",
    "This pipeline requires all different data types and layers. Due to some renaming it is most likely broken. We provide the calculated deforestation rates as csv file that can be loaded in the next section. Nevertheless, we want to leave the code here for completeness."
   ],
   "metadata": {
    "collapsed": false
   }
  },
  {
   "cell_type": "markdown",
   "source": [
    "## Preprocess data if not already done"
   ],
   "metadata": {
    "collapsed": false
   }
  },
  {
   "cell_type": "code",
   "execution_count": null,
   "outputs": [],
   "source": [
    "import numpy as np\n",
    "import rasterio\n",
    "import rasterio.mask\n",
    "from rasterio.windows import Window\n",
    "import matplotlib.pyplot as plt\n",
    "from matplotlib import colors\n",
    "from sklearn.model_selection import train_test_split\n",
    "import torch\n",
    "import matplotlib as mpl\n",
    "from rasterio.warp import calculate_default_transform, reproject, Resampling\n",
    "import os\n",
    "\n",
    "def transform_crs(dst_crs, resolution):\n",
    "\n",
    "    input_paths = []\n",
    "    output_paths = []\n",
    "\n",
    "    # transition data\n",
    "    for year_start, year_end in zip(np.arange(2000,2020),np.arange(2001,2021)):\n",
    "        input_paths.append(f\"../data/raw/biomass/amazonia/{resolution}m/additional/\" + f\"mapbiomas-brazil-collection-70-amazonia-{year_start}_{year_end}.tif\")\n",
    "        output_paths.append(f\"../data/interim/biomass/amazonia/{resolution}m/additional/\" + f\"transition_{year_start}_{year_end}.tif\")\n",
    "\n",
    "    for input_path, output_path in zip(input_paths, output_paths):\n",
    "        with rasterio.open(input_path) as src:\n",
    "            transform, width, height = calculate_default_transform(\n",
    "                src.crs, dst_crs, src.width, src.height, *src.bounds)\n",
    "            kwargs = src.meta.copy()\n",
    "            kwargs.update({\n",
    "                'crs': dst_crs,\n",
    "                'transform': transform,\n",
    "                'width': width,\n",
    "                'height': height\n",
    "            })\n",
    "            with rasterio.open(output_path, 'w', **kwargs) as dst:\n",
    "                for i in range(1, src.count + 1):\n",
    "                    reproject(\n",
    "                        source=rasterio.band(src, i),\n",
    "                        destination=rasterio.band(dst, i),\n",
    "                        src_transform=src.transform,\n",
    "                        src_crs=src.crs,\n",
    "                        dst_transform=transform,\n",
    "                        dst_crs=dst_crs,\n",
    "                        resampling=Resampling.nearest)\n",
    "\n",
    "# function to load biomass data\n",
    "def load_biomass_data(year=None, year_end=None, folder=\"interim\", shape=None, resolution=250, delta=None, name=None, additional=True):\n",
    "\n",
    "    # determine the path to load from from\n",
    "    if additional:\n",
    "        path_bio = f\"../data/{folder}/biomass/amazonia/{resolution}m/additional/\"\n",
    "    else:\n",
    "        path_bio = f\"../data/{folder}/biomass/amazonia/{resolution}m/\"\n",
    "    if name is None:\n",
    "        path_bio = path_bio + f\"biomass_{year}.tif\" if year_end is None else path_bio + f\"transition_{year}_{year_end}.tif\"\n",
    "    else:\n",
    "        path_bio = path_bio + name + \".tif\"\n",
    "\n",
    "    nodata = 255 if year_end is None else False\n",
    "\n",
    "    with rasterio.open(path_bio) as src:\n",
    "        out_meta = src.meta\n",
    "        if shape is not None:\n",
    "            bio_data, out_transform = rasterio.mask.mask(src, shape, crop=True, nodata=nodata)\n",
    "            bio_data = bio_data.squeeze()\n",
    "            out_meta.update({\"driver\": \"GTiff\",\n",
    "                 \"height\": bio_data.shape[0],\n",
    "                 \"width\": bio_data.shape[1],\n",
    "                 \"transform\": out_transform})\n",
    "        else:\n",
    "            bio_data = src.read(1)\n",
    "    bio_data = torch.from_numpy(bio_data)\n",
    "    if delta is not None:\n",
    "        diff_x = int((bio_data.shape[1]%delta)/2 + delta)\n",
    "        diff_y = int((bio_data.shape[0]%delta)/2 + delta)\n",
    "        bio_data = torch.nn.functional.pad(bio_data, (diff_y, diff_y, diff_x, diff_x), value=nodata)\n",
    "    return bio_data, out_meta\n",
    "\n",
    "# function to transform labels to 0=no-transition, 1=transition\n",
    "def transform_transition_to_labels(transition_data):\n",
    "    forest_labels = [1,3,4,5,49]\n",
    "    deforestation_labels = [14,15,18,19,39,20,40,61,41,36,46,47,48,9,21,\n",
    "                            22,23,24,30,25]\n",
    "    transition_labels = []\n",
    "    for forest_label in forest_labels:\n",
    "        for deforestation_label in deforestation_labels:\n",
    "            transition_labels.append(100*forest_label+deforestation_label)\n",
    "    transition_data_new = np.zeros_like(transition_data, dtype=bool)\n",
    "    for transition_label in transition_labels:\n",
    "        transition_data_new[transition_data == transition_label] = True\n",
    "    return transition_data_new\n",
    "\n",
    "# function to transform labels to 0=forest, 1=natural, 2=farming, 3=urban, 4=water, 255=unknown\n",
    "def transform_biodata_to_labels(bio_data):\n",
    "    class_dict = {1:0, 3:0, 4:0, 5:0,49:0, # forest\n",
    "                10:1,11:1,12:1,32:1,29:1,13:1, 13:1, 50:1, # natural\n",
    "                14:2,15:2,18:2,19:2,39:2,20:2,40:2,61:2,41:2,36:2,46:2,47:2,48:2,9:2,21:2, # farming\n",
    "                22:3,23:3,24:3,30:3,25:3, # urban\n",
    "                26:4,33:4,31:4, # water\n",
    "                27:255,0:255, 255:255} # unobserved\n",
    "    bio_data_new = np.zeros_like(bio_data)\n",
    "    for key, value in class_dict.items():\n",
    "        bio_data_new[bio_data == key] = value\n",
    "    return bio_data_new\n",
    "\n",
    "def preprocess_data(dst_crs, resolution):\n",
    "    # will transform all data to target crs and save\n",
    "    transform_crs(dst_crs, resolution)\n",
    "\n",
    "    # preprocess transition data\n",
    "    for year_start, year_end in zip(np.arange(2000,2020),np.arange(2001,2021)):\n",
    "        transition_data, out_meta = load_biomass_data(year_start, year_end)\n",
    "        transition_data = transform_transition_to_labels(transition_data)\n",
    "        with rasterio.open(f\"../data/interim/biomass/amazonia/{resolution}m/additional/\" + f\"transition_{year_start}_{year_end}.tif\", \"w\", **out_meta) as dest:\n",
    "            dest.write(np.expand_dims(transition_data, axis=0))"
   ],
   "metadata": {
    "collapsed": false
   }
  },
  {
   "cell_type": "code",
   "execution_count": null,
   "metadata": {},
   "outputs": [],
   "source": [
    "dst_crs = 'EPSG:6933'\n",
    "preprocess_data(dst_crs, 250)"
   ]
  },
  {
   "cell_type": "markdown",
   "metadata": {},
   "source": [
    "## Calculate Deforestation rates"
   ]
  },
  {
   "cell_type": "code",
   "execution_count": null,
   "metadata": {},
   "outputs": [],
   "source": [
    "import geopandas as gpd\n",
    "path = \"../data/raw/biomass/Biomas_250mil/lm_bioma_250.shp\"\n",
    "df = gpd.read_file(path)\n",
    "df['area_6933'] = df.geometry.to_crs(\"EPSG:6933\").area / 10000"
   ]
  },
  {
   "cell_type": "code",
   "execution_count": null,
   "metadata": {},
   "outputs": [],
   "source": [
    "df"
   ]
  },
  {
   "cell_type": "code",
   "execution_count": null,
   "metadata": {},
   "outputs": [],
   "source": [
    "df.crs"
   ]
  },
  {
   "cell_type": "code",
   "execution_count": null,
   "metadata": {},
   "outputs": [],
   "source": [
    "# bio_data_2010, _ = load_biomass_data(2010, additional=False, folder=\"processed_transition\")\n",
    "bio_data_2010 = torch.load(\"../data/processed_transition/biomass/amazonia/250m/biomass_2010.pt\")"
   ]
  },
  {
   "cell_type": "code",
   "execution_count": null,
   "metadata": {},
   "outputs": [],
   "source": [
    "cmap = colors.ListedColormap(['#129912','#bbfcac', '#ffffb2', '#ea9999', '#0000ff', '#D5D5E5'])\n",
    "mat = plt.matshow(bio_data_2010,cmap=cmap,vmin = -.5, vmax = 5.5)\n",
    "cax = plt.colorbar(mat, ticks=np.arange(0,6))\n",
    "cax.ax.set_yticklabels(['forest', 'natural', 'farming', 'urban', 'water', 'unknown'])\n",
    "plt.show()"
   ]
  },
  {
   "cell_type": "code",
   "execution_count": null,
   "metadata": {},
   "outputs": [],
   "source": [
    "def load_raw_data(year_start, year_end=None, shape=None, resolution=250):\n",
    "    path_bio = f\"../data/raw/biomass/amazonia/{resolution}m/\"\n",
    "    path_bio = path_bio + f\"mapbiomas-brazil-collection-70-amazonia-{year_start}.tif\" if year_end is None else path_bio + f\"additional/mapbiomas-brazil-collection-70-amazonia-{year_start}_{year_end}.tif\"\n",
    "    nodata = 255 if year_end is None else False\n",
    "    with rasterio.open(path_bio) as src:\n",
    "        out_meta = src.meta\n",
    "        if shape is not None:\n",
    "            bio_data, out_transform = rasterio.mask.mask(src, shape, crop=True, nodata=nodata)\n",
    "            bio_data = bio_data.squeeze()\n",
    "            out_meta.update({\"driver\": \"GTiff\",\n",
    "                 \"height\": bio_data.shape[0],\n",
    "                 \"width\": bio_data.shape[1],\n",
    "                 \"transform\": out_transform})\n",
    "        else:\n",
    "            bio_data = src.read(1)\n",
    "    bio_data = torch.from_numpy(bio_data)\n",
    "    return bio_data, out_meta\n",
    "bio_data_2010_untransformed, out_meta = load_raw_data(2010, year_end=None, shape=df[df.Bioma == \"Amazônia\"].geometry, resolution=250)\n",
    "bio_data_2010_untransformed = transform_biodata_to_labels(bio_data_2010_untransformed)"
   ]
  },
  {
   "cell_type": "code",
   "execution_count": null,
   "metadata": {},
   "outputs": [],
   "source": [
    "cmap = colors.ListedColormap(['#129912','#bbfcac', '#ffffb2', '#ea9999', '#0000ff', '#D5D5E5'])\n",
    "mat = plt.matshow(bio_data_2010_untransformed,cmap=cmap,vmin = -.5, vmax = 5.5)\n",
    "cax = plt.colorbar(mat, ticks=np.arange(0,6))\n",
    "cax.ax.set_yticklabels(['forest', 'natural', 'farming', 'urban', 'water', 'unknown'])\n",
    "plt.show()"
   ]
  },
  {
   "cell_type": "code",
   "execution_count": null,
   "metadata": {},
   "outputs": [],
   "source": [
    "observed_px = np.count_nonzero(bio_data_2010_untransformed != 255)\n",
    "# area_amazonia = int(df[df.Bioma == \"Amazônia\"].area_6933)\n",
    "area_amazonia = 4196943 * 100\n",
    "adapted_px_dim_untransform = np.sqrt(area_amazonia * 10000 / observed_px)\n",
    "print(\"Area [ha] - reported online: \", 4196943 * 100)\n",
    "print(\"Area [ha] - 250m px: \", observed_px * 250**2 / 10000)\n",
    "print(\"Adpated pixel dim: \", adapted_px_dim_untransform)"
   ]
  },
  {
   "cell_type": "code",
   "execution_count": null,
   "metadata": {},
   "outputs": [],
   "source": [
    "out_meta"
   ]
  },
  {
   "cell_type": "code",
   "execution_count": null,
   "metadata": {},
   "outputs": [],
   "source": [
    "observed_px = np.count_nonzero(bio_data_2010 != 255)\n",
    "area_amazonia = int(df[df.Bioma == \"Amazônia\"].area_6933)\n",
    "adapted_px_dim = np.sqrt(area_amazonia * 10000 / observed_px)\n",
    "print(\"Area [ha] - reported online: \", 4196943 * 100)\n",
    "print(\"Area [ha] - EPSG:6933: \", area_amazonia)\n",
    "print(\"Area [ha] - 250m px: \", observed_px * 250**2 / 10000)\n",
    "print(\"Adpated pixel dim: \", adapted_px_dim)"
   ]
  },
  {
   "cell_type": "code",
   "execution_count": null,
   "metadata": {},
   "outputs": [],
   "source": [
    "deforestation_rate = []\n",
    "for year_start, year_end in zip(np.arange(2000,2020),np.arange(2001,2021)):\n",
    "    transition_data, out_meta = load_biomass_data(year_start, year_end)\n",
    "    deforestation_rate.append(torch.sum(transition_data) * adapted_px_dim**2 / 10000)"
   ]
  },
  {
   "cell_type": "code",
   "execution_count": null,
   "metadata": {},
   "outputs": [],
   "source": [
    "deforestation_rate_raw = []\n",
    "for year_start, year_end in zip(np.arange(2000,2020),np.arange(2001,2021)):\n",
    "    transition_data, out_meta = load_raw_data(year_start, year_end)\n",
    "    transition_data = transform_transition_to_labels(transition_data)\n",
    "    deforestation_rate_raw.append(np.sum(transition_data) * adapted_px_dim_untransform**2 / 10000)"
   ]
  },
  {
   "cell_type": "code",
   "execution_count": null,
   "metadata": {},
   "outputs": [],
   "source": [
    "reported = [1658674.60, 1886757.99, 2569816.57, 2241427.52, 1856240.31, 1358708.47, 1040013.11, 969637.09, 531704.23, 463594.51, 547810.70,470476.73, 574083.73,544083.04,705946.23,895557.06,694287.44,792901.58,740159.18,710286.58]"
   ]
  },
  {
   "cell_type": "markdown",
   "metadata": {},
   "source": [
    "## Deforestation data"
   ]
  },
  {
   "cell_type": "code",
   "execution_count": null,
   "metadata": {},
   "outputs": [],
   "source": [
    "def transform_crs(dst_crs, resolution):\n",
    "\n",
    "    input_paths = []\n",
    "    output_paths = []\n",
    "\n",
    "    # transition data\n",
    "    for year in np.arange(2000,2020):\n",
    "        input_paths.append(f\"../data/raw/biomass/amazonia/{resolution}m/deforestation/\" + f\"mapbiomas-brazil-collection-70-amazonia-{year}.tif\")\n",
    "        output_paths.append(f\"../data/interim/biomass/amazonia/{resolution}m/deforestation/\" + f\"deforestation_{year}.tif\")\n",
    "\n",
    "    for input_path, output_path in zip(input_paths, output_paths):\n",
    "        with rasterio.open(input_path) as src:\n",
    "            transform, width, height = calculate_default_transform(\n",
    "                src.crs, dst_crs, src.width, src.height, *src.bounds)\n",
    "            kwargs = src.meta.copy()\n",
    "            kwargs.update({\n",
    "                'crs': dst_crs,\n",
    "                'transform': transform,\n",
    "                'width': width,\n",
    "                'height': height\n",
    "            })\n",
    "            with rasterio.open(output_path, 'w', **kwargs) as dst:\n",
    "                for i in range(1, src.count + 1):\n",
    "                    reproject(\n",
    "                        source=rasterio.band(src, i),\n",
    "                        destination=rasterio.band(dst, i),\n",
    "                        src_transform=src.transform,\n",
    "                        src_crs=src.crs,\n",
    "                        dst_transform=transform,\n",
    "                        dst_crs=dst_crs,\n",
    "                        resampling=Resampling.nearest)"
   ]
  },
  {
   "cell_type": "code",
   "execution_count": null,
   "metadata": {},
   "outputs": [],
   "source": [
    "transform_crs('EPSG:6933', 250)"
   ]
  },
  {
   "cell_type": "code",
   "execution_count": null,
   "metadata": {},
   "outputs": [],
   "source": [
    "def load_deforestation_data(year, shape=None, resolution=250, folder=\"raw\"):\n",
    "    path_bio = f\"../data/{folder}/biomass/amazonia/{resolution}m/deforestation/\"\n",
    "    path_bio = path_bio + f\"mapbiomas-brazil-collection-70-amazonia-{year}.tif\" if folder == \"raw\" else path_bio + f\"deforestation_{year}.tif\"\n",
    "    nodata = 750\n",
    "    with rasterio.open(path_bio) as src:\n",
    "        out_meta = src.meta\n",
    "        if shape is not None:\n",
    "            bio_data, out_transform = rasterio.mask.mask(src, shape, crop=True, nodata=nodata)\n",
    "            bio_data = bio_data.squeeze()\n",
    "            out_meta.update({\"driver\": \"GTiff\",\n",
    "                 \"height\": bio_data.shape[0],\n",
    "                 \"width\": bio_data.shape[1],\n",
    "                 \"transform\": out_transform})\n",
    "        else:\n",
    "            bio_data = src.read(1)\n",
    "    # bio_data = torch.from_numpy(bio_data)\n",
    "    return bio_data, out_meta"
   ]
  },
  {
   "cell_type": "code",
   "execution_count": null,
   "metadata": {},
   "outputs": [],
   "source": [
    "deforestation_2019, _ = load_deforestation_data(2019)\n",
    "deforestation_2019 = (deforestation_2019/100).astype(np.uint8)"
   ]
  },
  {
   "cell_type": "code",
   "execution_count": null,
   "metadata": {},
   "outputs": [],
   "source": [
    "plt.imshow(deforestation_2019)\n",
    "plt.show()"
   ]
  },
  {
   "cell_type": "code",
   "execution_count": null,
   "metadata": {},
   "outputs": [],
   "source": [
    "cmap = colors.ListedColormap(['#D5D5E5', '#FFFCB5','#0F5018', '#409562', '#D90016', '#87FF0A', '#FD9407', '#191919'])\n",
    "mat = plt.matshow(deforestation_2019,cmap=cmap,vmin = -.5, vmax = 7.5)\n",
    "cax = plt.colorbar(mat, ticks=np.arange(0,8))\n",
    "cax.ax.set_yticklabels(['unknown', 'anthropic', 'primary', 'secondary', 'prim. deforestation', 'regrowth', 'sec. deforestation', 'noise'])\n",
    "plt.show()"
   ]
  },
  {
   "cell_type": "code",
   "execution_count": null,
   "metadata": {},
   "outputs": [],
   "source": [
    "deforestation_rate_new_raw = []\n",
    "for year in np.arange(2000,2020):\n",
    "    deforestation, _ = load_deforestation_data(year)\n",
    "    deforestation = (deforestation/100).astype(np.uint8)\n",
    "    deforestation_rate_new_raw.append(np.count_nonzero(deforestation == 4) * adapted_px_dim_untransform**2 / 10000)\n",
    "\n",
    "deforestation_rate_new = []\n",
    "for year in np.arange(2000,2020):\n",
    "    deforestation, _ = load_deforestation_data(year, folder=\"interim\")\n",
    "    deforestation = (deforestation/100).astype(np.uint8)\n",
    "    deforestation_rate_new.append(np.count_nonzero(deforestation == 4) * adapted_px_dim**2 / 10000)"
   ]
  },
  {
   "cell_type": "markdown",
   "metadata": {},
   "source": [
    "## Deforestation 30m"
   ]
  },
  {
   "cell_type": "code",
   "execution_count": null,
   "metadata": {},
   "outputs": [],
   "source": [
    "from rasterio.merge import merge\n",
    "# function to load biomass data\n",
    "def load_mosaic_data(year=None, folder=\"raw\", shape=None, resolution=30, delta=None):\n",
    "    \n",
    "    \n",
    "    path_bio = f\"../data/{folder}/biomass/amazonia/{resolution}m/deforestation/\" \n",
    "\n",
    "    path_bios = [path_bio + name for name in os.listdir(path_bio) if f\"-{year}-\" in name]\n",
    "    \n",
    "    src_files_to_mosaic = []\n",
    "    for fp in path_bios:\n",
    "        src = rasterio.open(fp)\n",
    "        src_files_to_mosaic.append(src)\n",
    "\n",
    "    mosaic, out_trans = merge(src_files_to_mosaic)\n",
    "    # bio_data = torch.from_numpy(mosaic)\n",
    "    return mosaic, out_trans"
   ]
  },
  {
   "cell_type": "code",
   "execution_count": null,
   "metadata": {},
   "outputs": [],
   "source": [
    "bio_data, meta = load_mosaic_data(year=2018)"
   ]
  },
  {
   "cell_type": "code",
   "execution_count": null,
   "metadata": {},
   "outputs": [],
   "source": [
    "bio_data = bio_data.squeeze()\n",
    "bio_data = (bio_data/100).astype(np.uint8)"
   ]
  },
  {
   "cell_type": "code",
   "execution_count": null,
   "metadata": {},
   "outputs": [],
   "source": [
    "biodata_bool = torch.from_numpy(bio_data == 4).type(torch.bool)"
   ]
  },
  {
   "cell_type": "code",
   "execution_count": null,
   "metadata": {},
   "outputs": [],
   "source": [
    "torch.save(biodata_bool, \"../data/processed_deforestation/biomass/amazonia/30m/deforestation/deforestation_2018.pt\")"
   ]
  },
  {
   "cell_type": "code",
   "execution_count": null,
   "metadata": {},
   "outputs": [],
   "source": [
    "cmap = colors.ListedColormap(['#D5D5E5', '#FFFCB5','#0F5018', '#409562', '#D90016', '#87FF0A', '#FD9407', '#191919'])\n",
    "mat = plt.matshow(bio_data[10000:50000,10000:50000],cmap=cmap,vmin = -.5, vmax = 7.5)\n",
    "cax = plt.colorbar(mat, ticks=np.arange(0,8))\n",
    "cax.ax.set_yticklabels(['unknown', 'anthropic', 'primary', 'secondary', 'prim. deforestation', 'regrowth', 'sec. deforestation', 'noise'])\n",
    "plt.show()"
   ]
  },
  {
   "cell_type": "code",
   "execution_count": null,
   "metadata": {},
   "outputs": [],
   "source": [
    "observed_px = np.count_nonzero(bio_data != 0)\n",
    "area_amazonia = 4196943 * 100\n",
    "adapted_px_dim_untransform_30m = np.sqrt(area_amazonia * 10000 / observed_px)\n",
    "print(adapted_px_dim_untransform_30m)"
   ]
  },
  {
   "cell_type": "code",
   "execution_count": null,
   "metadata": {},
   "outputs": [],
   "source": [
    "deforestation_rate_30m = []\n",
    "for year in range(1995,2020):\n",
    "    bio_data, meta = load_mosaic_data(year=year)\n",
    "    bio_data = bio_data.squeeze()\n",
    "    bio_data = (bio_data/100).astype(np.uint8)\n",
    "    biodata_bool = torch.from_numpy(bio_data == 4).type(torch.bool)\n",
    "    torch.save(biodata_bool, f\"../data/processed_deforestation/biomass/amazonia/30m/deforestation/deforestation_{year}.pt\")\n",
    "    deforestation_rate_30m.append(np.count_nonzero(bio_data == 4) * adapted_px_dim_untransform_30m**2 / 10000)\n",
    "print(deforestation_rate_30m)\n",
    "\n",
    "737571.5109618581"
   ]
  },
  {
   "cell_type": "markdown",
   "metadata": {},
   "source": [
    "## Compare in dataframe"
   ]
  },
  {
   "cell_type": "code",
   "execution_count": null,
   "metadata": {},
   "outputs": [],
   "source": [
    "import pandas as pd\n",
    "deforestation_df_1 = pd.DataFrame({\n",
    "    \"year\": np.arange(2001,2021),\n",
    "    \"deforestation [ha]\": reported,\n",
    "    \"source\": [\"reported\"] * len(reported)})\n",
    "'''\n",
    "deforestation_df_2 = pd.DataFrame({\n",
    "    \"year\": np.arange(2001,2021),\n",
    "    \"deforestation [ha]\": deforestation_rate,\n",
    "    \"source\": [\"calculated\"] * len(deforestation_rate)})\n",
    "'''\n",
    "deforestation_df_3 = pd.DataFrame({\n",
    "    \"year\": np.arange(2001,2021),\n",
    "    \"deforestation [ha]\": deforestation_rate_raw,\n",
    "    \"source\": [\"transition data 250m\"] * len(deforestation_rate_raw)})\n",
    "deforestation_df_4 = pd.DataFrame({\n",
    "    \"year\": np.arange(2000,2020),\n",
    "    \"deforestation [ha]\": deforestation_rate_new_raw,\n",
    "    \"source\": [\"deforestation data 250m\"] * len(deforestation_rate_new_raw)})\n",
    "deforestation_df_5 = pd.DataFrame({\n",
    "    \"year\": np.arange(2000,2020),\n",
    "    \"deforestation [ha]\": deforestation_rate_new,\n",
    "    \"source\": [\"deforestation trans\"] * len(deforestation_rate_new)})\n",
    "deforestation_df_6 = pd.DataFrame({\n",
    "    \"year\": np.arange(1995,2020),\n",
    "    \"deforestation [ha]\": deforestation_rate_30m,\n",
    "    \"source\": [\"deforestation data 30m\"] * len(deforestation_rate_30m)})\n",
    "deforestation_df = pd.concat([deforestation_df_1, deforestation_df_3, deforestation_df_4, deforestation_df_6])"
   ]
  },
  {
   "cell_type": "code",
   "execution_count": null,
   "metadata": {},
   "outputs": [],
   "source": [
    "# save deforestation_df as csv in report folder\n",
    "deforestation_df.to_csv(\"../reports/deforestation.csv\", index=False)"
   ]
  },
  {
   "cell_type": "markdown",
   "source": [
    "# Load precomputed csv file and plot deforestation rates"
   ],
   "metadata": {
    "collapsed": false
   }
  },
  {
   "cell_type": "code",
   "execution_count": null,
   "metadata": {
    "ExecuteTime": {
     "start_time": "2023-05-17T16:01:16.200810Z",
     "end_time": "2023-05-17T16:01:16.479566Z"
    }
   },
   "outputs": [],
   "source": [
    "import pandas as pd\n",
    "deforestation_df = pd.read_csv(\"../reports/deforestation.csv\")"
   ]
  },
  {
   "cell_type": "code",
   "execution_count": null,
   "metadata": {
    "ExecuteTime": {
     "start_time": "2023-05-17T16:07:46.607009Z",
     "end_time": "2023-05-17T16:07:46.632769Z"
    }
   },
   "outputs": [],
   "source": [
    "import plotly.express as px\n",
    "fig = px.line(deforestation_df[deforestation_df.source == \"reported\"], x=\"year\", y=\"deforestation [ha]\", color=\"source\", title=\"Deforestation in Amazonian Biome in year before\")\n",
    "# add markers to points\n",
    "fig.update_traces(mode='lines+markers')\n",
    "# make lines see-through\n",
    "fig.update_traces(line=dict(width=1, dash='dot'))\n",
    "# make background light grey\n",
    "fig.update_layout(plot_bgcolor='rgba(237,239,239,1)')\n",
    "\n",
    "fig.show()\n",
    "# save figure with dpi 200\n",
    "fig.write_image(\"../reports/figures/deforestation_rate_reported.pdf\", scale=4, width=1200, height=675)"
   ]
  }
 ],
 "metadata": {
  "kernelspec": {
   "display_name": "Python 3 (ipykernel)",
   "language": "python",
   "name": "python3"
  },
  "language_info": {
   "codemirror_mode": {
    "name": "ipython",
    "version": 3
   },
   "file_extension": ".py",
   "mimetype": "text/x-python",
   "name": "python",
   "nbconvert_exporter": "python",
   "pygments_lexer": "ipython3",
   "version": "3.9.16"
  }
 },
 "nbformat": 4,
 "nbformat_minor": 2
}
