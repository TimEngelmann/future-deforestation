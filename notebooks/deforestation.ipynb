{
 "cells": [
  {
   "cell_type": "code",
   "execution_count": 2,
   "metadata": {},
   "outputs": [],
   "source": [
    "import os\n",
    "import numpy as np\n",
    "\n",
    "import fiona\n",
    "import rasterio\n",
    "import rasterio.mask\n",
    "from rasterio.windows import Window\n",
    "\n",
    "import geopandas as gpd\n",
    "import pandas as pd\n",
    "\n",
    "import matplotlib.pyplot as plt\n",
    "from matplotlib import colors\n",
    "\n",
    "import torch"
   ]
  },
  {
   "attachments": {},
   "cell_type": "markdown",
   "metadata": {},
   "source": [
    "# Project and Control polygons"
   ]
  },
  {
   "cell_type": "code",
   "execution_count": 71,
   "metadata": {},
   "outputs": [],
   "source": [
    "path = \"../data/raw/car/acre/\"\n",
    "folders = [name for name in os.listdir(path) if \"SHAPE\" in name]\n",
    "df = gpd.GeoDataFrame()\n",
    "for folder in folders:\n",
    "    df_new = gpd.read_file(path + folder + \"/AREA_IMOVEL/AREA_IMOVEL.shp\")\n",
    "    df = pd.concat([df, df_new])"
   ]
  },
  {
   "cell_type": "code",
   "execution_count": 207,
   "metadata": {},
   "outputs": [],
   "source": [
    "gpd.io.file.fiona.drvsupport.supported_drivers['KML'] = 'rw'\n",
    "path_pa = \"../data/raw/pa/ValparaisoProperty (Kml).kml\"\n",
    "pa = gpd.read_file(path_pa, driver='KML')\n",
    "pa = pa.to_crs(\"EPSG:4674\")"
   ]
  },
  {
   "cell_type": "code",
   "execution_count": 73,
   "metadata": {},
   "outputs": [
    {
     "name": "stdout",
     "output_type": "stream",
     "text": [
      "Total shape files:  41902\n",
      "Area filtered shape files:  39\n",
      "Overlapping filtered shape files:  38\n"
     ]
    },
    {
     "name": "stderr",
     "output_type": "stream",
     "text": [
      "/opt/homebrew/Caskroom/miniforge/base/envs/sp/lib/python3.9/site-packages/shapely/predicates.py:853: RuntimeWarning: invalid value encountered in overlaps\n",
      "  return lib.overlaps(a, b, **kwargs)\n"
     ]
    },
    {
     "name": "stdout",
     "output_type": "stream",
     "text": [
      "Sufficiently covered with forest:  38\n"
     ]
    }
   ],
   "source": [
    "df['area_6933'] = df.geometry.to_crs(\"EPSG:6933\").area\n",
    "print('Total shape files: ', df.shape[0])\n",
    "\n",
    "pa_area = pa.to_crs(\"EPSG:6933\").area.sum()\n",
    "df = df[(df.area_6933 > 0.75 * pa_area) & (df.area_6933 < 1.25 * pa_area)]\n",
    "print('Area filtered shape files: ', df.shape[0])\n",
    "\n",
    "for polygon in pa.geometry:\n",
    "    df = df[np.invert(df.overlaps(polygon).values)]\n",
    "print('Overlapping filtered shape files: ', df.shape[0])\n",
    "\n",
    "unobserved = 255\n",
    "forest_cover_1985 = []\n",
    "for car in df.iterrows():\n",
    "    bio_data = torch.load(\"../data/processed/biomass/30m/biomass_1985.pt\").numpy()\n",
    "    forest_cover = np.count_nonzero(bio_data == 0) / np.count_nonzero(bio_data < unobserved)\n",
    "    forest_cover_1985.append(forest_cover)\n",
    "df['fc_1985'] = forest_cover_1985\n",
    "df = df[df.fc_1985 >= 0.9]\n",
    "print('Sufficiently covered with forest: ', df.shape[0])"
   ]
  },
  {
   "cell_type": "code",
   "execution_count": 74,
   "metadata": {},
   "outputs": [
    {
     "data": {
      "text/plain": [
       "<Axes: >"
      ]
     },
     "execution_count": 74,
     "metadata": {},
     "output_type": "execute_result"
    },
    {
     "data": {
      "image/png": "[encoded data removed]",
      "text/plain": [
       "<Figure size 640x480 with 1 Axes>"
      ]
     },
     "metadata": {},
     "output_type": "display_data"
    }
   ],
   "source": [
    "fig, ax = plt.subplots()\n",
    "df.plot(ax=ax)\n",
    "pa.plot(ax=ax, color='red')"
   ]
  },
  {
   "attachments": {},
   "cell_type": "markdown",
   "metadata": {},
   "source": [
    "# Preprocess data"
   ]
  },
  {
   "cell_type": "code",
   "execution_count": 360,
   "metadata": {},
   "outputs": [],
   "source": [
    "pa = pa.to_crs(\"EPSG:6933\")"
   ]
  },
  {
   "cell_type": "code",
   "execution_count": 361,
   "metadata": {},
   "outputs": [],
   "source": [
    "from rasterio.warp import calculate_default_transform, reproject, Resampling\n",
    "\n",
    "resolution = 250\n",
    "dst_crs = 'EPSG:6933'\n",
    "\n",
    "for year in range(1985,2021+1):\n",
    "    path_bio = f\"../data/raw/biomass/{resolution}m/\" + f\"mapbiomas-brazil-collection-70-acre-{year}.tif\"\n",
    "    with rasterio.open(path_bio) as src:\n",
    "        transform, width, height = calculate_default_transform(\n",
    "            src.crs, dst_crs, src.width, src.height, *src.bounds)\n",
    "        kwargs = src.meta.copy()\n",
    "        kwargs.update({\n",
    "            'crs': dst_crs,\n",
    "            'transform': transform,\n",
    "            'width': width,\n",
    "            'height': height\n",
    "        })\n",
    "\n",
    "        with rasterio.open(f\"../data/processed/biomass/{resolution}m_6933/\" + f\"biomass_{year}.tif\", 'w', **kwargs) as dst:\n",
    "            for i in range(1, src.count + 1):\n",
    "                reproject(\n",
    "                    source=rasterio.band(src, i),\n",
    "                    destination=rasterio.band(dst, i),\n",
    "                    src_transform=src.transform,\n",
    "                    src_crs=src.crs,\n",
    "                    dst_transform=transform,\n",
    "                    dst_crs=dst_crs,\n",
    "                    resampling=Resampling.nearest)"
   ]
  },
  {
   "cell_type": "code",
   "execution_count": 321,
   "metadata": {},
   "outputs": [],
   "source": [
    "# function to load biomass data\n",
    "def load_biomass_data(year, shape, resolution=250):\n",
    "    path_bio = f\"../data/processed/biomass/{resolution}m_6933/\" + f\"biomass_{year}.tif\"\n",
    "    with rasterio.open(path_bio) as src:\n",
    "        out_meta = src.meta\n",
    "        if shape is not None:\n",
    "            bio_data, out_transform = rasterio.mask.mask(src, shape, crop=True)\n",
    "            bio_data = bio_data.squeeze()\n",
    "            out_meta.update({\"driver\": \"GTiff\",\n",
    "                 \"height\": bio_data.shape[0],\n",
    "                 \"width\": bio_data.shape[1],\n",
    "                 \"transform\": out_transform})\n",
    "        else:\n",
    "            bio_data = src.read(1)\n",
    "    return bio_data, out_meta\n",
    "\n",
    "# function to transform labels to 1=forest, 2=non_forest, 0=unknown\n",
    "def transform_to_labels(bio_data):\n",
    "    class_dict = {1:0, 3:0, 4:0, 5:0,49:0, # forest\n",
    "                10:1,11:1,12:1,32:1,29:1,13:1, 13:1, 50:1, # natural\n",
    "                14:2,15:2,18:2,19:2,39:2,20:2,40:2,61:2,41:2,36:2,46:2,47:2,48:2,9:2,21:2, # farming\n",
    "                22:3,23:3,24:3,30:3,25:3, # urban\n",
    "                26:4,33:4,31:4, # water\n",
    "                27:255,0:255} # unobserved\n",
    "    bio_data_new = np.zeros_like(bio_data)\n",
    "    for key, value in class_dict.items():\n",
    "        bio_data_new[bio_data == key] = value\n",
    "    return bio_data_new\n",
    "\n",
    "def preprocess_data(path_bio_processed):\n",
    "    all_years = np.range(1985,2022)\n",
    "\n",
    "    bio_data = []\n",
    "    out_meta = []\n",
    "    for year in all_years:\n",
    "        bio_data_year, out_meta_year = load_biomass_data(year, None, resolution=resolution)\n",
    "        bio_data_year = transform_to_labels(bio_data_year)\n",
    "        bio_data.append(bio_data_year)\n",
    "        out_meta.append(out_meta_year)\n",
    "\n",
    "    # replace unobserved with previously observed\n",
    "    for i in np.arange(1, len(bio_data)):\n",
    "        previously_observed = (bio_data[i] == 255) & (bio_data[i-1] != 255)\n",
    "        bio_data[i][previously_observed] = bio_data[i-1][previously_observed]\n",
    "\n",
    "    # identify mask to changing labels\n",
    "    mask = bio_data[0] == 255\n",
    "    for i in np.arange(1, len(bio_data)):\n",
    "        mask = mask | ((bio_data[i-1] == 2) & (bio_data[i] == 0)) # mask pixels water -> forest\n",
    "        mask = mask | ((bio_data[i-1] == 0) & (bio_data[i] == 2)) # mask pixels forest -> water\n",
    "\n",
    "        if i > 1: # mask forest <-> not forest <-> forest\n",
    "            mask = mask | ((bio_data[i-2] == 0) & (bio_data[i-1] != 0) & (bio_data[i] == 0)) \n",
    "\n",
    "        mask = mask | ((bio_data[i-1] == 1) & (bio_data[i] == 0))  # non-forest -> forest\n",
    "\n",
    "    with rasterio.open(path_bio_processed + \"biomass_mask.tif\", \"w\", **out_meta[0]) as dest:\n",
    "        dest.write(np.expand_dims(mask, axis=0))\n",
    "\n",
    "    # save\n",
    "    for i, year in enumerate(all_years):\n",
    "        with rasterio.open(path_bio_processed + f\"biomass_{year}.tif\", \"w\", **out_meta[i]) as dest:\n",
    "            dest.write(np.expand_dims(bio_data[i], axis=0))"
   ]
  },
  {
   "cell_type": "code",
   "execution_count": 322,
   "metadata": {},
   "outputs": [],
   "source": [
    "resolution = 250\n",
    "path_bio_processed = f\"../data/processed/biomass/{resolution}m_6933/\"\n",
    "preprocess_data(path_bio_processed)"
   ]
  },
  {
   "cell_type": "code",
   "execution_count": 323,
   "metadata": {},
   "outputs": [],
   "source": [
    "# function to load biomass data\n",
    "def load_processed_biomass_data(year, shape, resolution=250):\n",
    "    path_bio = f\"../data/processed/biomass/{resolution}m_6933/\" + f\"biomass_{year}.tif\"\n",
    "    with rasterio.open(path_bio) as src:\n",
    "        out_meta = src.meta\n",
    "        if shape is not None:\n",
    "            nodata = 255 if year != \"mask\" else 1\n",
    "            bio_data, out_transform = rasterio.mask.mask(src, shape, crop=True, nodata=nodata)\n",
    "            bio_data = bio_data.squeeze()\n",
    "            out_meta.update({\"driver\": \"GTiff\",\n",
    "                 \"height\": bio_data.shape[0],\n",
    "                 \"width\": bio_data.shape[1],\n",
    "                 \"transform\": out_transform})\n",
    "        else:\n",
    "            bio_data = src.read(1)\n",
    "    bio_data = bio_data if year != \"mask\" else bio_data.astype(bool)\n",
    "    return bio_data, out_meta"
   ]
  },
  {
   "cell_type": "code",
   "execution_count": 324,
   "metadata": {},
   "outputs": [],
   "source": [
    "year = 2011\n",
    "bio_data, bio_data_meta = load_processed_biomass_data(year, pa.geometry, resolution=250)"
   ]
  },
  {
   "cell_type": "code",
   "execution_count": 325,
   "metadata": {},
   "outputs": [
    {
     "data": {
      "image/png": "[encoded data removed]",
      "text/plain": [
       "<Figure size 610.909x480 with 2 Axes>"
      ]
     },
     "metadata": {},
     "output_type": "display_data"
    }
   ],
   "source": [
    "cmap = colors.ListedColormap(['#129912','#ea9999', 'blue', '#D5D5E5'])\n",
    "mat = plt.matshow(bio_data,cmap=cmap,vmin = -.5, vmax = 3.5)\n",
    "cax = plt.colorbar(mat, ticks=np.arange(0,4))\n",
    "cax.ax.set_yticklabels(['forest', 'non-forest', 'water', 'unknown'])\n",
    "plt.show()"
   ]
  },
  {
   "attachments": {},
   "cell_type": "markdown",
   "metadata": {},
   "source": [
    "# Calculate deforestation rate"
   ]
  },
  {
   "cell_type": "code",
   "execution_count": 326,
   "metadata": {},
   "outputs": [],
   "source": [
    "pa = pa.to_crs(\"EPSG:6933\")\n",
    "\n",
    "start_date = 2011\n",
    "end_date = 2017\n",
    "unobserved = 255\n",
    "resolution = 250\n",
    "bio_data_2011, bio_data_meta = load_processed_biomass_data(start_date, pa.geometry, resolution=resolution)\n",
    "bio_data_2017, bio_data_meta = load_processed_biomass_data(end_date, pa.geometry, resolution=resolution)\n",
    "mask, mask_meta = load_processed_biomass_data(\"mask\", pa.geometry, resolution=resolution)\n",
    "bio_data_2011_masked = bio_data_2011.copy()\n",
    "bio_data_2011_masked[mask] = 255\n",
    "bio_data_2017_masked = bio_data_2017.copy()\n",
    "bio_data_2017_masked[mask] = 255"
   ]
  },
  {
   "cell_type": "code",
   "execution_count": 327,
   "metadata": {},
   "outputs": [
    {
     "data": {
      "text/plain": [
       "{'driver': 'GTiff',\n",
       " 'dtype': 'uint8',\n",
       " 'nodata': None,\n",
       " 'width': 210,\n",
       " 'height': 165,\n",
       " 'count': 1,\n",
       " 'crs': CRS.from_epsg(6933),\n",
       " 'transform': Affine(233.6414038876932, 0.0, -7020287.845857723,\n",
       "        0.0, -233.6414038876932, -1014847.8496158166)}"
      ]
     },
     "execution_count": 327,
     "metadata": {},
     "output_type": "execute_result"
    }
   ],
   "source": [
    "bio_data_meta"
   ]
  },
  {
   "cell_type": "code",
   "execution_count": 328,
   "metadata": {},
   "outputs": [
    {
     "data": {
      "text/plain": [
       "<matplotlib.image.AxesImage at 0x291f2e130>"
      ]
     },
     "execution_count": 328,
     "metadata": {},
     "output_type": "execute_result"
    },
    {
     "data": {
      "image/png": "[encoded data removed]",
      "text/plain": [
       "<Figure size 640x480 with 1 Axes>"
      ]
     },
     "metadata": {},
     "output_type": "display_data"
    }
   ],
   "source": [
    "plt.imshow(mask)"
   ]
  },
  {
   "cell_type": "code",
   "execution_count": 329,
   "metadata": {},
   "outputs": [
    {
     "data": {
      "image/png": "[encoded data removed]",
      "text/plain": [
       "<Figure size 610.909x480 with 2 Axes>"
      ]
     },
     "metadata": {},
     "output_type": "display_data"
    }
   ],
   "source": [
    "cmap = colors.ListedColormap(['#129912','#ea9999', 'blue', '#D5D5E5'])\n",
    "mat = plt.matshow(bio_data_2017_masked,cmap=cmap,vmin = -.5, vmax = 3.5)\n",
    "cax = plt.colorbar(mat, ticks=np.arange(0,4))\n",
    "cax.ax.set_yticklabels(['forest', 'non-forest', 'water', 'unknown'])\n",
    "plt.show()"
   ]
  },
  {
   "cell_type": "code",
   "execution_count": 330,
   "metadata": {},
   "outputs": [
    {
     "name": "stdout",
     "output_type": "stream",
     "text": [
      "PA area - polygon 289886589.1948548\n",
      "PA area - pixel 289886589.1948548\n",
      "Resolution est. 233.7386004867241\n",
      "---- 2011 ----\n",
      "Forest_cover % 0.9894459102902374\n",
      "Forest cover ha 28682.71001268352\n",
      "---- 2017 ----\n",
      "Forest_cover % 0.9817188088955899\n",
      "Forest cover ha 28458.711705917805\n",
      "Cummulative deforestation 223.99830676571727\n",
      "Percent lost 0.007727101394647495\n"
     ]
    }
   ],
   "source": [
    "forest_cover_2011 = np.count_nonzero(bio_data_2011 == 0) / np.count_nonzero(bio_data_2011 < 255)\n",
    "forest_cover_2017 = np.count_nonzero(bio_data_2017 == 0) / np.count_nonzero(bio_data_2017 < 255)\n",
    "resolution_new = np.sqrt(pa_area / np.count_nonzero(bio_data_2011 < 255))\n",
    "pa_area_pixel = np.count_nonzero(bio_data_2011 < 255) * resolution_new**2\n",
    "print(\"PA area - polygon\", pa_area) # 28,988\n",
    "print(\"PA area - pixel\", pa_area_pixel)\n",
    "print(\"Resolution est.\", resolution_new)\n",
    "\n",
    "print(\"---- 2011 ----\")\n",
    "forest_cover_2011_ha = pa_area_pixel * forest_cover_2011\n",
    "print(\"Forest_cover %\", forest_cover_2011) # 0,98899544639161\n",
    "print(\"Forest cover ha\", forest_cover_2011_ha/10000) #28,669\n",
    "\n",
    "print(\"---- 2017 ----\")\n",
    "forest_cover_2017_ha = pa_area_pixel * forest_cover_2017\n",
    "print(\"Forest_cover %\", forest_cover_2017) # 0,98899544639161\n",
    "print(\"Forest cover ha\", forest_cover_2017_ha/10000)\n",
    "print(\"Cummulative deforestation\", (forest_cover_2011_ha - forest_cover_2017_ha)/10000)\n",
    "print(\"Percent lost\",  forest_cover_2011 - forest_cover_2017)"
   ]
  },
  {
   "cell_type": "code",
   "execution_count": 331,
   "metadata": {},
   "outputs": [
    {
     "name": "stdout",
     "output_type": "stream",
     "text": [
      "28070.812199079603\n",
      "27988.86159904337\n"
     ]
    }
   ],
   "source": [
    "forest_cover_2011_ha = np.count_nonzero(bio_data_2011_masked == 0) * resolution_new**2 /10000\n",
    "forest_cover_2017_ha = np.count_nonzero(bio_data_2017_masked == 0) * resolution_new**2 /10000\n",
    "print(forest_cover_2011_ha)\n",
    "print(forest_cover_2017_ha)"
   ]
  },
  {
   "cell_type": "code",
   "execution_count": 333,
   "metadata": {},
   "outputs": [],
   "source": [
    "bio_data = {}\n",
    "bio_data_masked = {}\n",
    "for year in np.arange(1985, 2021+1):\n",
    "    bio_data_year, _ = load_processed_biomass_data(year, pa.geometry, resolution=resolution)\n",
    "    bio_data_masked_year = bio_data_year.copy()\n",
    "    bio_data_masked_year[mask] = 255\n",
    "    bio_data[year] = bio_data_year\n",
    "    bio_data_masked[year] = bio_data_masked_year"
   ]
  },
  {
   "cell_type": "code",
   "execution_count": 355,
   "metadata": {},
   "outputs": [],
   "source": [
    "deforestation = []\n",
    "for year in np.arange(1985+1, 2019+1):\n",
    "    defores_px = np.count_nonzero((bio_data[year-1] == 0) & (bio_data[year] == 1) & (bio_data[year+1] == 1))\n",
    "    deforestation.append(defores_px)"
   ]
  },
  {
   "cell_type": "code",
   "execution_count": 356,
   "metadata": {},
   "outputs": [
    {
     "data": {
      "text/plain": [
       "[0,\n",
       " 2,\n",
       " 2,\n",
       " 3,\n",
       " 3,\n",
       " 0,\n",
       " 4,\n",
       " 7,\n",
       " 3,\n",
       " 2,\n",
       " 3,\n",
       " 2,\n",
       " 4,\n",
       " 4,\n",
       " 5,\n",
       " 3,\n",
       " 2,\n",
       " 6,\n",
       " 9,\n",
       " 9,\n",
       " 5,\n",
       " 14,\n",
       " 4,\n",
       " 8,\n",
       " 8,\n",
       " 8,\n",
       " 8,\n",
       " 26,\n",
       " 26,\n",
       " 5,\n",
       " 11,\n",
       " 6,\n",
       " 8,\n",
       " 5]"
      ]
     },
     "execution_count": 356,
     "metadata": {},
     "output_type": "execute_result"
    }
   ],
   "source": [
    "deforestation"
   ]
  },
  {
   "cell_type": "code",
   "execution_count": 358,
   "metadata": {},
   "outputs": [
    {
     "data": {
      "text/plain": [
       "[<matplotlib.lines.Line2D at 0x10f22c790>]"
      ]
     },
     "execution_count": 358,
     "metadata": {},
     "output_type": "execute_result"
    },
    {
     "data": {
      "image/png": "[encoded data removed]",
      "text/plain": [
       "<Figure size 640x480 with 1 Axes>"
      ]
     },
     "metadata": {},
     "output_type": "display_data"
    }
   ],
   "source": [
    "plt.plot(np.arange(1985, 2019), np.array(deforestation)/np.count_nonzero(bio_data_2011 < 255)*100)"
   ]
  },
  {
   "cell_type": "code",
   "execution_count": null,
   "metadata": {},
   "outputs": [
    {
     "name": "stdout",
     "output_type": "stream",
     "text": [
      "PA area - polygon 289886589.1948548\n",
      "PA area - pixel 289886589.1948548\n",
      "Resolution est. 233.7386004867241\n",
      "---- 2011 ----\n",
      "Forest_cover % 0.9894459102902374\n",
      "Forest cover ha 28682.71001268352\n",
      "---- 2017 ----\n",
      "Forest_cover % 0.9817188088955899\n",
      "Forest cover ha 28458.711705917805\n",
      "Cummulative deforestation 223.99830676571727\n",
      "Percent lost 0.007727101394647495\n"
     ]
    }
   ],
   "source": [
    "forest_cover_2011 = np.count_nonzero(bio_data_2011 == 0) / np.count_nonzero(bio_data_2011 < 255)\n",
    "forest_cover_2017 = np.count_nonzero(bio_data_2017 == 0) / np.count_nonzero(bio_data_2017 < 255)\n",
    "resolution_new = np.sqrt(pa_area / np.count_nonzero(bio_data_2011 < 255))\n",
    "pa_area_pixel = np.count_nonzero(bio_data_2011 < 255) * resolution_new**2\n",
    "print(\"PA area - polygon\", pa_area) # 28,988\n",
    "print(\"PA area - pixel\", pa_area_pixel)\n",
    "print(\"Resolution est.\", resolution_new)\n",
    "\n",
    "print(\"---- 2011 ----\")\n",
    "forest_cover_2011_ha = pa_area_pixel * forest_cover_2011\n",
    "print(\"Forest_cover %\", forest_cover_2011) # 0,98899544639161\n",
    "print(\"Forest cover ha\", forest_cover_2011_ha/10000) #28,669\n",
    "\n",
    "print(\"---- 2017 ----\")\n",
    "forest_cover_2017_ha = pa_area_pixel * forest_cover_2017\n",
    "print(\"Forest_cover %\", forest_cover_2017) # 0,98899544639161\n",
    "print(\"Forest cover ha\", forest_cover_2017_ha/10000)\n",
    "print(\"Cummulative deforestation\", (forest_cover_2011_ha - forest_cover_2017_ha)/10000)\n",
    "print(\"Percent lost\",  forest_cover_2011 - forest_cover_2017)"
   ]
  },
  {
   "cell_type": "code",
   "execution_count": null,
   "metadata": {},
   "outputs": [
    {
     "name": "stdout",
     "output_type": "stream",
     "text": [
      "PA area - polygon 289886589.1948548\n",
      "PA area - pixel 289886589.1948548\n",
      "Resolution est. 233.7386004867241\n",
      "---- 2011 ----\n",
      "Forest_cover % 0.9894459102902374\n",
      "Forest cover ha 28682.71001268352\n",
      "---- 2017 ----\n",
      "Forest_cover % 0.9817188088955899\n",
      "Forest cover ha 28458.711705917805\n",
      "Cummulative deforestation 223.99830676571727\n",
      "Percent lost 0.007727101394647495\n"
     ]
    }
   ],
   "source": [
    "forest_cover_2011 = np.count_nonzero(bio_data_2011 == 0) / np.count_nonzero(bio_data_2011 < 255)\n",
    "forest_cover_2017 = np.count_nonzero(bio_data_2017 == 0) / np.count_nonzero(bio_data_2017 < 255)\n",
    "resolution_new = np.sqrt(pa_area / np.count_nonzero(bio_data_2011 < 255))\n",
    "pa_area_pixel = np.count_nonzero(bio_data_2011 < 255) * resolution_new**2\n",
    "print(\"PA area - polygon\", pa_area) # 28,988\n",
    "print(\"PA area - pixel\", pa_area_pixel)\n",
    "print(\"Resolution est.\", resolution_new)\n",
    "\n",
    "print(\"---- 2011 ----\")\n",
    "forest_cover_2011_ha = pa_area_pixel * forest_cover_2011\n",
    "print(\"Forest_cover %\", forest_cover_2011) # 0,98899544639161\n",
    "print(\"Forest cover ha\", forest_cover_2011_ha/10000) #28,669\n",
    "\n",
    "print(\"---- 2017 ----\")\n",
    "forest_cover_2017_ha = pa_area_pixel * forest_cover_2017\n",
    "print(\"Forest_cover %\", forest_cover_2017) # 0,98899544639161\n",
    "print(\"Forest cover ha\", forest_cover_2017_ha/10000)\n",
    "print(\"Cummulative deforestation\", (forest_cover_2011_ha - forest_cover_2017_ha)/10000)\n",
    "print(\"Percent lost\",  forest_cover_2011 - forest_cover_2017)"
   ]
  },
  {
   "cell_type": "code",
   "execution_count": null,
   "metadata": {},
   "outputs": [
    {
     "name": "stdout",
     "output_type": "stream",
     "text": [
      "PA area - polygon 289886589.1948548\n",
      "PA area - pixel 289886589.1948548\n",
      "Resolution est. 233.7386004867241\n",
      "---- 2011 ----\n",
      "Forest_cover % 0.9894459102902374\n",
      "Forest cover ha 28682.71001268352\n",
      "---- 2017 ----\n",
      "Forest_cover % 0.9817188088955899\n",
      "Forest cover ha 28458.711705917805\n",
      "Cummulative deforestation 223.99830676571727\n",
      "Percent lost 0.007727101394647495\n"
     ]
    }
   ],
   "source": [
    "forest_cover_2011 = np.count_nonzero(bio_data_2011 == 0) / np.count_nonzero(bio_data_2011 < 255)\n",
    "forest_cover_2017 = np.count_nonzero(bio_data_2017 == 0) / np.count_nonzero(bio_data_2017 < 255)\n",
    "resolution_new = np.sqrt(pa_area / np.count_nonzero(bio_data_2011 < 255))\n",
    "pa_area_pixel = np.count_nonzero(bio_data_2011 < 255) * resolution_new**2\n",
    "print(\"PA area - polygon\", pa_area) # 28,988\n",
    "print(\"PA area - pixel\", pa_area_pixel)\n",
    "print(\"Resolution est.\", resolution_new)\n",
    "\n",
    "print(\"---- 2011 ----\")\n",
    "forest_cover_2011_ha = pa_area_pixel * forest_cover_2011\n",
    "print(\"Forest_cover %\", forest_cover_2011) # 0,98899544639161\n",
    "print(\"Forest cover ha\", forest_cover_2011_ha/10000) #28,669\n",
    "\n",
    "print(\"---- 2017 ----\")\n",
    "forest_cover_2017_ha = pa_area_pixel * forest_cover_2017\n",
    "print(\"Forest_cover %\", forest_cover_2017) # 0,98899544639161\n",
    "print(\"Forest cover ha\", forest_cover_2017_ha/10000)\n",
    "print(\"Cummulative deforestation\", (forest_cover_2011_ha - forest_cover_2017_ha)/10000)\n",
    "print(\"Percent lost\",  forest_cover_2011 - forest_cover_2017)"
   ]
  },
  {
   "cell_type": "code",
   "execution_count": null,
   "metadata": {},
   "outputs": [
    {
     "name": "stdout",
     "output_type": "stream",
     "text": [
      "PA area - polygon 289886589.1948548\n",
      "PA area - pixel 289886589.1948548\n",
      "Resolution est. 233.7386004867241\n",
      "---- 2011 ----\n",
      "Forest_cover % 0.9894459102902374\n",
      "Forest cover ha 28682.71001268352\n",
      "---- 2017 ----\n",
      "Forest_cover % 0.9817188088955899\n",
      "Forest cover ha 28458.711705917805\n",
      "Cummulative deforestation 223.99830676571727\n",
      "Percent lost 0.007727101394647495\n"
     ]
    }
   ],
   "source": [
    "forest_cover_2011 = np.count_nonzero(bio_data_2011 == 0) / np.count_nonzero(bio_data_2011 < 255)\n",
    "forest_cover_2017 = np.count_nonzero(bio_data_2017 == 0) / np.count_nonzero(bio_data_2017 < 255)\n",
    "resolution_new = np.sqrt(pa_area / np.count_nonzero(bio_data_2011 < 255))\n",
    "pa_area_pixel = np.count_nonzero(bio_data_2011 < 255) * resolution_new**2\n",
    "print(\"PA area - polygon\", pa_area) # 28,988\n",
    "print(\"PA area - pixel\", pa_area_pixel)\n",
    "print(\"Resolution est.\", resolution_new)\n",
    "\n",
    "print(\"---- 2011 ----\")\n",
    "forest_cover_2011_ha = pa_area_pixel * forest_cover_2011\n",
    "print(\"Forest_cover %\", forest_cover_2011) # 0,98899544639161\n",
    "print(\"Forest cover ha\", forest_cover_2011_ha/10000) #28,669\n",
    "\n",
    "print(\"---- 2017 ----\")\n",
    "forest_cover_2017_ha = pa_area_pixel * forest_cover_2017\n",
    "print(\"Forest_cover %\", forest_cover_2017) # 0,98899544639161\n",
    "print(\"Forest cover ha\", forest_cover_2017_ha/10000)\n",
    "print(\"Cummulative deforestation\", (forest_cover_2011_ha - forest_cover_2017_ha)/10000)\n",
    "print(\"Percent lost\",  forest_cover_2011 - forest_cover_2017)"
   ]
  },
  {
   "cell_type": "code",
   "execution_count": null,
   "metadata": {},
   "outputs": [
    {
     "name": "stdout",
     "output_type": "stream",
     "text": [
      "PA area - polygon 289886589.1948548\n",
      "PA area - pixel 289886589.1948548\n",
      "Resolution est. 233.7386004867241\n",
      "---- 2011 ----\n",
      "Forest_cover % 0.9894459102902374\n",
      "Forest cover ha 28682.71001268352\n",
      "---- 2017 ----\n",
      "Forest_cover % 0.9817188088955899\n",
      "Forest cover ha 28458.711705917805\n",
      "Cummulative deforestation 223.99830676571727\n",
      "Percent lost 0.007727101394647495\n"
     ]
    }
   ],
   "source": [
    "forest_cover_2011 = np.count_nonzero(bio_data_2011 == 0) / np.count_nonzero(bio_data_2011 < 255)\n",
    "forest_cover_2017 = np.count_nonzero(bio_data_2017 == 0) / np.count_nonzero(bio_data_2017 < 255)\n",
    "resolution_new = np.sqrt(pa_area / np.count_nonzero(bio_data_2011 < 255))\n",
    "pa_area_pixel = np.count_nonzero(bio_data_2011 < 255) * resolution_new**2\n",
    "print(\"PA area - polygon\", pa_area) # 28,988\n",
    "print(\"PA area - pixel\", pa_area_pixel)\n",
    "print(\"Resolution est.\", resolution_new)\n",
    "\n",
    "print(\"---- 2011 ----\")\n",
    "forest_cover_2011_ha = pa_area_pixel * forest_cover_2011\n",
    "print(\"Forest_cover %\", forest_cover_2011) # 0,98899544639161\n",
    "print(\"Forest cover ha\", forest_cover_2011_ha/10000) #28,669\n",
    "\n",
    "print(\"---- 2017 ----\")\n",
    "forest_cover_2017_ha = pa_area_pixel * forest_cover_2017\n",
    "print(\"Forest_cover %\", forest_cover_2017) # 0,98899544639161\n",
    "print(\"Forest cover ha\", forest_cover_2017_ha/10000)\n",
    "print(\"Cummulative deforestation\", (forest_cover_2011_ha - forest_cover_2017_ha)/10000)\n",
    "print(\"Percent lost\",  forest_cover_2011 - forest_cover_2017)"
   ]
  },
  {
   "cell_type": "code",
   "execution_count": 310,
   "metadata": {},
   "outputs": [
    {
     "data": {
      "text/plain": [
       "163.90120007247728"
      ]
     },
     "execution_count": 310,
     "metadata": {},
     "output_type": "execute_result"
    }
   ],
   "source": [
    "np.sum(deforestation) * resolution_new**2 / 10000"
   ]
  },
  {
   "cell_type": "code",
   "execution_count": 246,
   "metadata": {},
   "outputs": [
    {
     "data": {
      "text/plain": [
       "5306"
      ]
     },
     "execution_count": 246,
     "metadata": {},
     "output_type": "execute_result"
    }
   ],
   "source": [
    "np.count_nonzero(bio_data_2011 < 255)"
   ]
  },
  {
   "cell_type": "code",
   "execution_count": 244,
   "metadata": {},
   "outputs": [
    {
     "data": {
      "text/plain": [
       "5209"
      ]
     },
     "execution_count": 244,
     "metadata": {},
     "output_type": "execute_result"
    }
   ],
   "source": [
    "np.count_nonzero(bio_data_2017 == 0)"
   ]
  }
 ],
 "metadata": {
  "kernelspec": {
   "display_name": "sp",
   "language": "python",
   "name": "python3"
  },
  "language_info": {
   "codemirror_mode": {
    "name": "ipython",
    "version": 3
   },
   "file_extension": ".py",
   "mimetype": "text/x-python",
   "name": "python",
   "nbconvert_exporter": "python",
   "pygments_lexer": "ipython3",
   "version": "3.9.16"
  },
  "orig_nbformat": 4
 },
 "nbformat": 4,
 "nbformat_minor": 2
}
